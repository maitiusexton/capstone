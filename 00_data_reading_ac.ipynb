{
 "cells": [
  {
   "cell_type": "markdown",
   "id": "c16d5fb5",
   "metadata": {
    "colab_type": "text",
    "id": "view-in-github"
   },
   "source": [
    "<a href=\"https://colab.research.google.com/github/mdsexton/capstone/blob/main/scratch_3.ipynb\" target=\"_parent\"><img src=\"https://colab.research.google.com/assets/colab-badge.svg\" alt=\"Open In Colab\"/></a>"
   ]
  },
  {
   "cell_type": "code",
   "execution_count": 1,
   "id": "6EmkDJR93Ux7",
   "metadata": {
    "colab": {
     "base_uri": "https://localhost:8080/"
    },
    "id": "6EmkDJR93Ux7",
    "outputId": "655918a9-7419-4b4a-9b0e-db3c104885c5"
   },
   "outputs": [
    {
     "name": "stdout",
     "output_type": "stream",
     "text": [
      "Mounted at /content/drive\n"
     ]
    }
   ],
   "source": [
    "from google.colab import drive\n",
    "drive.mount('/content/drive', force_remount=True)"
   ]
  },
  {
   "cell_type": "markdown",
   "id": "Oc2C5mTQ1G9u",
   "metadata": {
    "id": "Oc2C5mTQ1G9u"
   },
   "source": [
    "Zipped files by navigating to desired directory in terminal then executing `zip -r test.zip . -x \".*\" -x \"__MACOSX\"` \\\n",
    "Then uploading to google drive"
   ]
  },
  {
   "cell_type": "code",
   "execution_count": 2,
   "id": "c8mOJmhoAcgv",
   "metadata": {
    "colab": {
     "base_uri": "https://localhost:8080/"
    },
    "id": "c8mOJmhoAcgv",
    "outputId": "c7b2d715-0849-4a89-fe87-0b68cea03b5c"
   },
   "outputs": [
    {
     "name": "stdout",
     "output_type": "stream",
     "text": [
      "Archive:  /content/drive/MyDrive/general_assembly/code/capstone/arabic_characters/train.zip\n",
      "replace /content/drive/MyDrive/general_assembly/code/capstone/arabic_characters/train/id_7752_label_17.png? [y]es, [n]o, [A]ll, [N]one, [r]ename: N\n"
     ]
    }
   ],
   "source": [
    "!unzip '/content/drive/MyDrive/general_assembly/code/capstone/arabic_characters/train.zip' -d '/content/drive/MyDrive/general_assembly/code/capstone/arabic_characters/train'"
   ]
  },
  {
   "cell_type": "code",
   "execution_count": 3,
   "id": "yr3XzsFYFCfE",
   "metadata": {
    "colab": {
     "base_uri": "https://localhost:8080/"
    },
    "id": "yr3XzsFYFCfE",
    "outputId": "4c173c77-12dc-4c7a-9817-d772e8d61b86"
   },
   "outputs": [
    {
     "name": "stdout",
     "output_type": "stream",
     "text": [
      "Archive:  /content/drive/MyDrive/general_assembly/code/capstone/arabic_characters/test.zip\n",
      "replace /content/drive/MyDrive/general_assembly/code/capstone/arabic_characters/test/id_1575_label_4.png? [y]es, [n]o, [A]ll, [N]one, [r]ename: N\n"
     ]
    }
   ],
   "source": [
    "!unzip '/content/drive/MyDrive/general_assembly/code/capstone/arabic_characters/test.zip' -d '/content/drive/MyDrive/general_assembly/code/capstone/arabic_characters/test'"
   ]
  },
  {
   "cell_type": "code",
   "execution_count": 4,
   "id": "iWhv7zESFvZx",
   "metadata": {
    "id": "iWhv7zESFvZx"
   },
   "outputs": [],
   "source": [
    "import pickle\n",
    "\n",
    "import numpy as np\n",
    "import os\n",
    "\n",
    "from tensorflow.keras.utils import to_categorical\n",
    "from tensorflow.keras.preprocessing.image import img_to_array, load_img\n",
    "\n",
    "np.random.seed(42)"
   ]
  },
  {
   "cell_type": "code",
   "execution_count": 5,
   "id": "ueNSXd5NfK8D",
   "metadata": {
    "id": "ueNSXd5NfK8D"
   },
   "outputs": [],
   "source": [
    "drive_path = '/content/drive/MyDrive/general_assembly/code/capstone/arabic_characters/'"
   ]
  },
  {
   "cell_type": "code",
   "execution_count": 6,
   "id": "ax-YpWuuQ37P",
   "metadata": {
    "colab": {
     "base_uri": "https://localhost:8080/"
    },
    "id": "ax-YpWuuQ37P",
    "outputId": "a7478bae-6777-44df-fa24-58d1190b80c6"
   },
   "outputs": [
    {
     "name": "stdout",
     "output_type": "stream",
     "text": [
      "13440 pictures converted\n"
     ]
    }
   ],
   "source": [
    "train_img_list = []\n",
    "train_label_list = []\n",
    "\n",
    "train_path = drive_path + 'train/'\n",
    "\n",
    "for file in os.listdir(train_path):\n",
    "    try:\n",
    "        char = load_img(train_path + file, color_mode='grayscale')\n",
    "        char_arr = img_to_array(char) / 255\n",
    "        train_img_list.append(char_arr)\n",
    "        train_label_list.append(file[-6:-4].replace('_', '0'))\n",
    "\n",
    "    except:\n",
    "        print(f'Error for file: {file}')\n",
    "\n",
    "print(f'{len(train_img_list)} pictures converted')"
   ]
  },
  {
   "cell_type": "code",
   "execution_count": 7,
   "id": "iR1TwuZ1aqbn",
   "metadata": {
    "colab": {
     "base_uri": "https://localhost:8080/"
    },
    "id": "iR1TwuZ1aqbn",
    "outputId": "7d9c4a38-add7-4f17-dd68-ec28527cd3e4"
   },
   "outputs": [
    {
     "name": "stdout",
     "output_type": "stream",
     "text": [
      "3360 pictures converted\n"
     ]
    }
   ],
   "source": [
    "test_img_list = []\n",
    "test_label_list = []\n",
    "\n",
    "test_path = drive_path + 'test/'\n",
    "\n",
    "for file in os.listdir(test_path):\n",
    "    try:\n",
    "        char = load_img(test_path + file, color_mode='grayscale')\n",
    "        char_arr = img_to_array(char) / 255\n",
    "        test_img_list.append(char_arr)\n",
    "        test_label_list.append(file[-6:-4].replace('_', '0'))\n",
    "    except:\n",
    "        print(f'Error for file: {file}')\n",
    "\n",
    "print(f'{len(test_img_list)} pictures converted')"
   ]
  },
  {
   "cell_type": "code",
   "execution_count": 8,
   "id": "c4GxUZjVZjN8",
   "metadata": {
    "id": "c4GxUZjVZjN8"
   },
   "outputs": [],
   "source": [
    "class_dict = {'01' : ('alef', 'أ'),\n",
    "              '02' : ('beh', 'ب'),\n",
    "              '03' : ('teh', 'ت'),\n",
    "              '04' : ('theh', 'ث'),\n",
    "              '05' : ('jeem', 'ج'),\n",
    "              '06' : ('hah', 'ح'),\n",
    "              '07' : ('khah', 'خ'),\n",
    "              '08' : ('dal', 'د'),\n",
    "              '09' : ('thal', 'ذ'),\n",
    "              '10': ('reh', 'ر'),\n",
    "              '11': ('zain', 'ز'),\n",
    "              '12': ('seen', 'س'),\n",
    "              '13': ('sheen', 'ش'),\n",
    "              '14': ('sad', 'ص'),\n",
    "              '15': ('dad', 'ض'),\n",
    "              '16': ('tah', 'ط'),\n",
    "              '17': ('zah', 'ظ'),\n",
    "              '18': ('ain', 'ع'),\n",
    "              '19': ('ghain', 'غ'),\n",
    "              '20': ('feh', 'ف'),\n",
    "              '21': ('qaf', 'ق'),\n",
    "              '22': ('kaf', 'ك'),\n",
    "              '23': ('lam', 'ل'),\n",
    "              '24': ('meem', 'م'),\n",
    "              '25': ('noon', 'ن'),\n",
    "              '26': ('heh', 'ﻫ'),\n",
    "              '27': ('waw', 'و'),\n",
    "              '28': ('yeh', 'ي')}"
   ]
  },
  {
   "cell_type": "code",
   "execution_count": 9,
   "id": "5qmonZb3YnZC",
   "metadata": {
    "id": "5qmonZb3YnZC"
   },
   "outputs": [],
   "source": [
    "train_imgs = np.squeeze(train_img_list)\n",
    "test_imgs = np.squeeze(test_img_list)\n",
    "train_labels = train_label_list\n",
    "test_labels = test_label_list\n",
    "X_train = np.array(train_img_list)\n",
    "X_test = np.array(test_img_list)\n",
    "y_train = to_categorical(train_label_list)\n",
    "y_test = to_categorical(test_label_list)"
   ]
  },
  {
   "cell_type": "code",
   "execution_count": 10,
   "id": "Uo6T-rX1c2yD",
   "metadata": {
    "id": "Uo6T-rX1c2yD"
   },
   "outputs": [],
   "source": [
    "data_names = ['train_imgs',\n",
    "              'test_imgs',\n",
    "              'train_labels',\n",
    "              'test_labels',\n",
    "              'X_train',\n",
    "              'X_test',\n",
    "              'y_train',\n",
    "              'y_test',\n",
    "              'class_dict']"
   ]
  },
  {
   "cell_type": "code",
   "execution_count": 11,
   "id": "n3FY2T8QYs2f",
   "metadata": {
    "id": "n3FY2T8QYs2f"
   },
   "outputs": [],
   "source": [
    "data = [train_imgs,\n",
    "        test_imgs,\n",
    "        train_labels,\n",
    "        test_labels,\n",
    "        X_train,\n",
    "        X_test,\n",
    "        y_train,\n",
    "        y_test,\n",
    "        class_dict,\n",
    "        data_names]"
   ]
  },
  {
   "cell_type": "code",
   "execution_count": 12,
   "id": "tECxFQjobAyq",
   "metadata": {
    "id": "tECxFQjobAyq"
   },
   "outputs": [],
   "source": [
    "with open(drive_path + 'arabchars.pkl', 'wb') as f:\n",
    "    pickle.dump(data, f)"
   ]
  },
  {
   "cell_type": "code",
   "execution_count": 13,
   "id": "o7uhj4lBbUFJ",
   "metadata": {
    "id": "o7uhj4lBbUFJ"
   },
   "outputs": [],
   "source": [
    "with open(drive_path + 'arabchars.pkl', 'rb') as f:\n",
    "    ac_data = pickle.load(f)"
   ]
  },
  {
   "cell_type": "code",
   "execution_count": 14,
   "id": "pEOz3nVCbgTB",
   "metadata": {
    "colab": {
     "base_uri": "https://localhost:8080/"
    },
    "id": "pEOz3nVCbgTB",
    "outputId": "beae6f3b-d870-4642-d627-9415df2a8f55"
   },
   "outputs": [
    {
     "data": {
      "text/plain": [
       "['train_imgs',\n",
       " 'test_imgs',\n",
       " 'train_labels',\n",
       " 'test_labels',\n",
       " 'X_train',\n",
       " 'X_test',\n",
       " 'y_train',\n",
       " 'y_test',\n",
       " 'class_dict']"
      ]
     },
     "execution_count": 14,
     "metadata": {},
     "output_type": "execute_result"
    }
   ],
   "source": [
    "ac_data[9]"
   ]
  }
 ],
 "metadata": {
  "colab": {
   "include_colab_link": true,
   "name": "scratch_3.ipynb",
   "provenance": []
  },
  "kernelspec": {
   "display_name": "Python 3",
   "language": "python",
   "name": "python3"
  },
  "language_info": {
   "codemirror_mode": {
    "name": "ipython",
    "version": 3
   },
   "file_extension": ".py",
   "mimetype": "text/x-python",
   "name": "python",
   "nbconvert_exporter": "python",
   "pygments_lexer": "ipython3",
   "version": "3.8.10"
  }
 },
 "nbformat": 4,
 "nbformat_minor": 5
}
