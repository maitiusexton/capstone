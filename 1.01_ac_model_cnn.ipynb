{
  "nbformat": 4,
  "nbformat_minor": 5,
  "metadata": {
    "colab": {
      "name": "scratch_2.ipynb",
      "provenance": []
    },
    "kernelspec": {
      "display_name": "Python 3",
      "language": "python",
      "name": "python3"
    },
    "language_info": {
      "codemirror_mode": {
        "name": "ipython",
        "version": 3
      },
      "file_extension": ".py",
      "mimetype": "text/x-python",
      "name": "python",
      "nbconvert_exporter": "python",
      "pygments_lexer": "ipython3",
      "version": "3.8.10"
    }
  },
  "cells": [
    {
      "cell_type": "code",
      "metadata": {
        "colab": {
          "base_uri": "https://localhost:8080/"
        },
        "id": "KDYOCXlgvg2R",
        "outputId": "e68bbe16-32ee-4b93-f263-3e2a97afb37e"
      },
      "source": [
        "from google.colab import drive\n",
        "drive.mount('/content/drive', force_remount=True)"
      ],
      "id": "KDYOCXlgvg2R",
      "execution_count": 1,
      "outputs": [
        {
          "output_type": "stream",
          "name": "stdout",
          "text": [
            "Mounted at /content/drive\n"
          ]
        }
      ]
    },
    {
      "cell_type": "code",
      "metadata": {
        "id": "X4EvVlChvl8r"
      },
      "source": [
        "drive_path = '/content/drive/MyDrive/general_assembly/code/capstone/arabic_characters/'"
      ],
      "id": "X4EvVlChvl8r",
      "execution_count": 2,
      "outputs": []
    },
    {
      "cell_type": "code",
      "metadata": {
        "id": "I1RTWwRnwcRo"
      },
      "source": [
        "import pickle\n",
        "\n",
        "import numpy as np\n",
        "import matplotlib.pyplot as plt\n",
        "\n",
        "from tensorflow.keras.models import Sequential\n",
        "from tensorflow.keras.layers import Conv2D, MaxPooling2D, Flatten, Dense\n",
        "from tensorflow.keras.regularizers import l2\n",
        "\n",
        "#from tensorflow.keras.optimizers import SGD\n",
        "\n",
        "np.random.seed(42)"
      ],
      "id": "I1RTWwRnwcRo",
      "execution_count": 13,
      "outputs": []
    },
    {
      "cell_type": "code",
      "metadata": {
        "id": "nH4EfiD7wia0"
      },
      "source": [
        "with open(drive_path + 'arabcharsrgb.pkl', 'rb') as f:\n",
        "    ac_data = pickle.load(f)"
      ],
      "id": "nH4EfiD7wia0",
      "execution_count": 4,
      "outputs": []
    },
    {
      "cell_type": "code",
      "metadata": {
        "id": "QIWRdz8iwuN-"
      },
      "source": [
        "train_imgs = ac_data[0].copy()\n",
        "test_imgs = ac_data[1].copy()\n",
        "train_labels = ac_data[2].copy()\n",
        "test_labels = ac_data[3].copy()\n",
        "X_train = ac_data[4].copy()\n",
        "X_test = ac_data[5].copy()\n",
        "y_train = ac_data[6].copy()\n",
        "y_test = ac_data[7].copy()\n",
        "class_dict = ac_data[8].copy()"
      ],
      "id": "QIWRdz8iwuN-",
      "execution_count": 5,
      "outputs": []
    },
    {
      "cell_type": "markdown",
      "metadata": {
        "id": "YYV8VmmO4jDg"
      },
      "source": [
        "## CNN Model #1\n",
        "This is the model proposed in the paper outlining the data set by the people who collected the data [(source)](https://www.researchgate.net/publication/313891953_Arabic_Handwritten_Characters_Recognition_using_Convolutional_Neural_Network)"
      ],
      "id": "YYV8VmmO4jDg"
    },
    {
      "cell_type": "code",
      "metadata": {
        "id": "Vyi_srzl4lCZ"
      },
      "source": [
        "# construct network\n",
        "model = Sequential()\n",
        "\n",
        "# Convolutional and Max Pooling - layers 1 & 2\n",
        "model.add(Conv2D(80, (5, 5), activation='relu', input_shape=(32, 32, 3), kernel_regularizer=l2(0.01)))\n",
        "model.add(MaxPooling2D((2, 2)))\n",
        "\n",
        "# Convolutional and Max Pooling - layers 3 & 4\n",
        "model.add(Conv2D(64, (5, 5), activation='relu', kernel_regularizer=l2(0.01)))\n",
        "model.add(MaxPooling2D((2, 2)))\n",
        "\n",
        "# classification - layers 5 & 6\n",
        "model.add(Flatten())\n",
        "model.add(Dense(1024, activation='relu', kernel_regularizer=l2(0.01)))\n",
        "model.add(Dense(28, activation='softmax'))\n",
        "\n",
        "# compile model\n",
        "model.compile(optimizer='adam', loss='categorical_crossentropy', metrics=['accuracy'])"
      ],
      "id": "Vyi_srzl4lCZ",
      "execution_count": 17,
      "outputs": []
    },
    {
      "cell_type": "code",
      "metadata": {
        "id": "vnCqH3kr4qFP",
        "colab": {
          "base_uri": "https://localhost:8080/"
        },
        "outputId": "c9a4049d-9ec5-42e4-b7cc-c9286cddba8d"
      },
      "source": [
        "history = model.fit(X_train, y_train, validation_data=(X_test, y_test), batch_size=256, epochs=30)"
      ],
      "id": "vnCqH3kr4qFP",
      "execution_count": 18,
      "outputs": [
        {
          "output_type": "stream",
          "name": "stdout",
          "text": [
            "Epoch 1/30\n",
            "53/53 [==============================] - 48s 896ms/step - loss: 6.7789 - accuracy: 0.4143 - val_loss: 2.7175 - val_accuracy: 0.6887\n",
            "Epoch 2/30\n",
            "53/53 [==============================] - 47s 893ms/step - loss: 2.0830 - accuracy: 0.7382 - val_loss: 1.6379 - val_accuracy: 0.7798\n",
            "Epoch 3/30\n",
            "53/53 [==============================] - 47s 894ms/step - loss: 1.4155 - accuracy: 0.7993 - val_loss: 1.2773 - val_accuracy: 0.8071\n",
            "Epoch 4/30\n",
            "53/53 [==============================] - 47s 892ms/step - loss: 1.1631 - accuracy: 0.8243 - val_loss: 1.1108 - val_accuracy: 0.8301\n",
            "Epoch 5/30\n",
            "53/53 [==============================] - 47s 891ms/step - loss: 1.0289 - accuracy: 0.8430 - val_loss: 1.0256 - val_accuracy: 0.8333\n",
            "Epoch 6/30\n",
            "53/53 [==============================] - 47s 894ms/step - loss: 0.9469 - accuracy: 0.8554 - val_loss: 0.9886 - val_accuracy: 0.8336\n",
            "Epoch 7/30\n",
            "53/53 [==============================] - 47s 893ms/step - loss: 0.9078 - accuracy: 0.8563 - val_loss: 0.9566 - val_accuracy: 0.8375\n",
            "Epoch 8/30\n",
            "53/53 [==============================] - 47s 895ms/step - loss: 0.8611 - accuracy: 0.8686 - val_loss: 1.0061 - val_accuracy: 0.8202\n",
            "Epoch 9/30\n",
            "53/53 [==============================] - 48s 904ms/step - loss: 0.8449 - accuracy: 0.8732 - val_loss: 0.8842 - val_accuracy: 0.8580\n",
            "Epoch 10/30\n",
            "53/53 [==============================] - 48s 904ms/step - loss: 0.7970 - accuracy: 0.8839 - val_loss: 0.9059 - val_accuracy: 0.8443\n",
            "Epoch 11/30\n",
            "53/53 [==============================] - 48s 903ms/step - loss: 0.7892 - accuracy: 0.8812 - val_loss: 0.8718 - val_accuracy: 0.8568\n",
            "Epoch 12/30\n",
            "53/53 [==============================] - 48s 909ms/step - loss: 0.7838 - accuracy: 0.8846 - val_loss: 0.8340 - val_accuracy: 0.8685\n",
            "Epoch 13/30\n",
            "53/53 [==============================] - 49s 919ms/step - loss: 0.7663 - accuracy: 0.8841 - val_loss: 0.8646 - val_accuracy: 0.8539\n",
            "Epoch 14/30\n",
            "53/53 [==============================] - 49s 932ms/step - loss: 0.7642 - accuracy: 0.8851 - val_loss: 0.8665 - val_accuracy: 0.8432\n",
            "Epoch 15/30\n",
            "53/53 [==============================] - 48s 906ms/step - loss: 0.7428 - accuracy: 0.8912 - val_loss: 0.8232 - val_accuracy: 0.8699\n",
            "Epoch 16/30\n",
            "53/53 [==============================] - 49s 933ms/step - loss: 0.7344 - accuracy: 0.8924 - val_loss: 0.9021 - val_accuracy: 0.8417\n",
            "Epoch 17/30\n",
            "53/53 [==============================] - 49s 916ms/step - loss: 0.7350 - accuracy: 0.8948 - val_loss: 0.8166 - val_accuracy: 0.8732\n",
            "Epoch 18/30\n",
            "53/53 [==============================] - 47s 896ms/step - loss: 0.7309 - accuracy: 0.8924 - val_loss: 0.8234 - val_accuracy: 0.8685\n",
            "Epoch 19/30\n",
            "53/53 [==============================] - 48s 898ms/step - loss: 0.6918 - accuracy: 0.9030 - val_loss: 0.8576 - val_accuracy: 0.8512\n",
            "Epoch 20/30\n",
            "53/53 [==============================] - 48s 897ms/step - loss: 0.7125 - accuracy: 0.8970 - val_loss: 0.8154 - val_accuracy: 0.8646\n",
            "Epoch 21/30\n",
            "53/53 [==============================] - 49s 919ms/step - loss: 0.6967 - accuracy: 0.8996 - val_loss: 0.8329 - val_accuracy: 0.8607\n",
            "Epoch 22/30\n",
            "53/53 [==============================] - 49s 927ms/step - loss: 0.6863 - accuracy: 0.9031 - val_loss: 0.8011 - val_accuracy: 0.8622\n",
            "Epoch 23/30\n",
            "53/53 [==============================] - 50s 946ms/step - loss: 0.6687 - accuracy: 0.9080 - val_loss: 0.7697 - val_accuracy: 0.8771\n",
            "Epoch 24/30\n",
            "53/53 [==============================] - 49s 933ms/step - loss: 0.6689 - accuracy: 0.9050 - val_loss: 0.8155 - val_accuracy: 0.8568\n",
            "Epoch 25/30\n",
            "53/53 [==============================] - 49s 924ms/step - loss: 0.6926 - accuracy: 0.9004 - val_loss: 0.7818 - val_accuracy: 0.8708\n",
            "Epoch 26/30\n",
            "53/53 [==============================] - 48s 904ms/step - loss: 0.6645 - accuracy: 0.9127 - val_loss: 0.7870 - val_accuracy: 0.8705\n",
            "Epoch 27/30\n",
            "53/53 [==============================] - 48s 903ms/step - loss: 0.6538 - accuracy: 0.9095 - val_loss: 0.7842 - val_accuracy: 0.8679\n",
            "Epoch 28/30\n",
            "53/53 [==============================] - 48s 901ms/step - loss: 0.6461 - accuracy: 0.9104 - val_loss: 0.7617 - val_accuracy: 0.8720\n",
            "Epoch 29/30\n",
            "53/53 [==============================] - 48s 901ms/step - loss: 0.6383 - accuracy: 0.9126 - val_loss: 0.7436 - val_accuracy: 0.8839\n",
            "Epoch 30/30\n",
            "53/53 [==============================] - 48s 901ms/step - loss: 0.6375 - accuracy: 0.9129 - val_loss: 0.7867 - val_accuracy: 0.8696\n"
          ]
        }
      ]
    },
    {
      "cell_type": "code",
      "metadata": {
        "id": "6q6_laLn5WfM",
        "colab": {
          "base_uri": "https://localhost:8080/"
        },
        "outputId": "f9147e7c-7ea3-41b1-f501-8c497f3f67b4"
      },
      "source": [
        "model.summary()"
      ],
      "id": "6q6_laLn5WfM",
      "execution_count": 9,
      "outputs": [
        {
          "output_type": "stream",
          "name": "stdout",
          "text": [
            "Model: \"sequential\"\n",
            "_________________________________________________________________\n",
            "Layer (type)                 Output Shape              Param #   \n",
            "=================================================================\n",
            "conv2d (Conv2D)              (None, 28, 28, 28)        2128      \n",
            "_________________________________________________________________\n",
            "max_pooling2d (MaxPooling2D) (None, 14, 14, 28)        0         \n",
            "_________________________________________________________________\n",
            "conv2d_1 (Conv2D)            (None, 10, 10, 10)        7010      \n",
            "_________________________________________________________________\n",
            "max_pooling2d_1 (MaxPooling2 (None, 5, 5, 10)          0         \n",
            "_________________________________________________________________\n",
            "flatten (Flatten)            (None, 250)               0         \n",
            "_________________________________________________________________\n",
            "dense (Dense)                (None, 1024)              257024    \n",
            "_________________________________________________________________\n",
            "dense_1 (Dense)              (None, 28)                28700     \n",
            "=================================================================\n",
            "Total params: 294,862\n",
            "Trainable params: 294,862\n",
            "Non-trainable params: 0\n",
            "_________________________________________________________________\n"
          ]
        }
      ]
    },
    {
      "cell_type": "code",
      "metadata": {
        "id": "6Q50uVzY5X5t"
      },
      "source": [
        "def plot_training(model_history=history):\n",
        "    plt.figure(figsize=(8,10))\n",
        "\n",
        "    plt.subplot(2,1,1)\n",
        "    plt.title('Model Loss', fontsize=16)\n",
        "    plt.xlabel('Number of Epochs', fontsize=12)\n",
        "    plt.plot(model_history.history['loss'], label='Train Loss')\n",
        "    plt.plot(model_history.history['val_loss'], label='Val Loss')\n",
        "    plt.legend()\n",
        "\n",
        "    plt.subplot(2,1,2)\n",
        "    plt.title('Model Accuracy', fontsize=16)\n",
        "    plt.xlabel('Number of Epochs', fontsize=12)\n",
        "    plt.plot(model_history.history['accuracy'], label='Train Accuracy')\n",
        "    plt.plot(model_history.history['val_accuracy'], label='Val Accuracy')\n",
        "    plt.legend()\n",
        "\n",
        "    plt.subplots_adjust(hspace=0.5) \n",
        "    plt.show()\n",
        "\n",
        "    return"
      ],
      "id": "6Q50uVzY5X5t",
      "execution_count": 10,
      "outputs": []
    },
    {
      "cell_type": "code",
      "metadata": {
        "id": "HHsoXKpp3DV4",
        "colab": {
          "base_uri": "https://localhost:8080/",
          "height": 626
        },
        "outputId": "aea07730-593d-4689-9dd7-42c942eacdd1"
      },
      "source": [
        "plot_training()"
      ],
      "id": "HHsoXKpp3DV4",
      "execution_count": 11,
      "outputs": [
        {
          "output_type": "display_data",
          "data": {
            "image/png": "[encoded data removed]",
            "text/plain": [
              "<Figure size 576x720 with 2 Axes>"
            ]
          },
          "metadata": {
            "needs_background": "light"
          }
        }
      ]
    },
    {
      "cell_type": "code",
      "metadata": {
        "id": "hUDAvAIGQkw4",
        "colab": {
          "base_uri": "https://localhost:8080/"
        },
        "outputId": "77dafc2b-dedf-424e-fac3-d63c308c3043"
      },
      "source": [
        "model.evaluate(X_test, y_test)"
      ],
      "id": "hUDAvAIGQkw4",
      "execution_count": 12,
      "outputs": [
        {
          "output_type": "stream",
          "name": "stdout",
          "text": [
            "105/105 [==============================] - 2s 13ms/step - loss: 0.5129 - accuracy: 0.8943\n"
          ]
        },
        {
          "output_type": "execute_result",
          "data": {
            "text/plain": [
              "[0.5129294395446777, 0.894345223903656]"
            ]
          },
          "metadata": {},
          "execution_count": 12
        }
      ]
    },
    {
      "cell_type": "code",
      "metadata": {
        "id": "-6taVab97eCO"
      },
      "source": [
        "model.save(drive_path + 'models/cnn_1.h5')"
      ],
      "id": "-6taVab97eCO",
      "execution_count": 19,
      "outputs": []
    },
    {
      "cell_type": "markdown",
      "metadata": {
        "id": "El1yOMkYvvI6"
      },
      "source": [
        "## Model Performance\n",
        "The model outlined in the paper makes a noticeable improvement to the baseline. The accuracy went up nearly 8 points to 89.43% and the loss function dropped nearly 16 points to 0.5129."
      ],
      "id": "El1yOMkYvvI6"
    }
  ]
}