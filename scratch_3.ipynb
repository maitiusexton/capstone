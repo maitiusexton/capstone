{
  "nbformat": 4,
  "nbformat_minor": 5,
  "metadata": {
    "colab": {
      "name": "scratch_3.ipynb",
      "provenance": []
    },
    "language_info": {
      "name": "python"
    },
    "kernelspec": {
      "name": "python3",
      "display_name": "Python 3"
    }
  },
  "cells": [
    {
      "cell_type": "code",
      "metadata": {
        "colab": {
          "base_uri": "https://localhost:8080/"
        },
        "id": "6EmkDJR93Ux7",
        "outputId": "625f70f2-aef0-44e5-ad6e-2068c69f694d"
      },
      "source": [
        "from google.colab import drive\n",
        "drive.mount('/content/drive')"
      ],
      "id": "6EmkDJR93Ux7",
      "execution_count": 1,
      "outputs": [
        {
          "output_type": "stream",
          "name": "stdout",
          "text": [
            "Drive already mounted at /content/drive; to attempt to forcibly remount, call drive.mount(\"/content/drive\", force_remount=True).\n"
          ]
        }
      ]
    },
    {
      "cell_type": "code",
      "metadata": {
        "id": "c8mOJmhoAcgv"
      },
      "source": [
        "!unzip '/content/drive/MyDrive/general_assembly/code/capstone/arabic_characters/train.zip' -d '/content/arabic_chars'"
      ],
      "id": "c8mOJmhoAcgv",
      "execution_count": null,
      "outputs": []
    },
    {
      "cell_type": "code",
      "metadata": {
        "id": "yr3XzsFYFCfE"
      },
      "source": [
        "!unzip '/content/drive/MyDrive/general_assembly/code/capstone/arabic_characters/test.zip' -d '/content/arabic_chars'"
      ],
      "id": "yr3XzsFYFCfE",
      "execution_count": null,
      "outputs": []
    },
    {
      "cell_type": "code",
      "metadata": {
        "id": "bTISianrE2NU"
      },
      "source": [
        "!rm -r arabic_chars/__MACOSX"
      ],
      "id": "bTISianrE2NU",
      "execution_count": 4,
      "outputs": []
    },
    {
      "cell_type": "code",
      "metadata": {
        "colab": {
          "base_uri": "https://localhost:8080/",
          "height": 49
        },
        "id": "X4SscIFoAcKT",
        "outputId": "c83ca07f-29c9-4b4d-e897-7f7e3f0af7c0"
      },
      "source": [
        "from IPython.display import Image\n",
        "Image('arabic_chars/test/id_1000_label_24.png')"
      ],
      "id": "X4SscIFoAcKT",
      "execution_count": 1,
      "outputs": [
        {
          "output_type": "execute_result",
          "data": {
            "image/png": "[encoded data removed]",
            "text/plain": [
              "<IPython.core.display.Image object>"
            ]
          },
          "metadata": {},
          "execution_count": 1
        }
      ]
    },
    {
      "cell_type": "code",
      "metadata": {
        "id": "iWhv7zESFvZx"
      },
      "source": [
        "import matplotlib.pyplot as plt\n",
        "import numpy as np\n",
        "import os\n",
        "import pandas as pd\n",
        "\n",
        "from tensorflow.keras.utils import to_categorical\n",
        "from tensorflow.keras.preprocessing.image import img_to_array, load_img, array_to_img\n",
        "from tensorflow.keras.layers import Dense, Dropout, Flatten, Conv2D, MaxPooling2D\n",
        "from tensorflow.keras.models import Sequential\n",
        "\n",
        "np.random.seed(42)\n",
        "np.set_printoptions(threshold=np.inf)"
      ],
      "id": "iWhv7zESFvZx",
      "execution_count": 10,
      "outputs": []
    },
    {
      "cell_type": "code",
      "metadata": {
        "colab": {
          "base_uri": "https://localhost:8080/"
        },
        "id": "qNgRv4R-GuaP",
        "outputId": "595082ff-baf8-4747-b187-9e62339e5dbb"
      },
      "source": [
        "train_arrays = []\n",
        "\n",
        "train_path = 'arabic_chars/train/'\n",
        "\n",
        "for file in os.listdir(train_path):\n",
        "    try:\n",
        "        char = load_img(train_path + file, target_size=(32, 32), color_mode='grayscale')\n",
        "        char_arr = img_to_array(char) / 31\n",
        "        train_arrays.append(char_arr)\n",
        "    except:\n",
        "        print(f'Error for file: {file}')\n",
        "\n",
        "print(f'{len(train_arrays)} pictures converted')"
      ],
      "id": "qNgRv4R-GuaP",
      "execution_count": 35,
      "outputs": [
        {
          "output_type": "stream",
          "name": "stdout",
          "text": [
            "13440 pictures converted\n"
          ]
        }
      ]
    },
    {
      "cell_type": "code",
      "metadata": {
        "colab": {
          "base_uri": "https://localhost:8080/"
        },
        "id": "iR1TwuZ1aqbn",
        "outputId": "7a8e6b5f-cba3-4b6a-896e-d1150ec26945"
      },
      "source": [
        "test_arrays = []\n",
        "\n",
        "test_path = 'arabic_chars/test/'\n",
        "\n",
        "for file in os.listdir(test_path):\n",
        "    try:\n",
        "        char = load_img(test_path + file, target_size=(32, 32), color_mode='grayscale')\n",
        "        char_arr = img_to_array(char) / 31\n",
        "        test_arrays.append(char_arr)\n",
        "    except:\n",
        "        print(f'Error for file: {file}')\n",
        "\n",
        "print(f'{len(test_arrays)} pictures converted')"
      ],
      "id": "iR1TwuZ1aqbn",
      "execution_count": 36,
      "outputs": [
        {
          "output_type": "stream",
          "name": "stdout",
          "text": [
            "3360 pictures converted\n"
          ]
        }
      ]
    },
    {
      "cell_type": "code",
      "metadata": {
        "colab": {
          "base_uri": "https://localhost:8080/",
          "height": 49
        },
        "id": "DGANNO7-KWH1",
        "outputId": "ddc81d3b-1edf-46ec-b142-c9dbeee2979e"
      },
      "source": [
        "array_to_img(train_arrays[0])"
      ],
      "id": "DGANNO7-KWH1",
      "execution_count": 37,
      "outputs": [
        {
          "output_type": "execute_result",
          "data": {
            "image/png": "[encoded data removed]",
            "text/plain": [
              "<PIL.Image.Image image mode=L size=32x32 at 0x7F2DB45CD850>"
            ]
          },
          "metadata": {},
          "execution_count": 37
        }
      ]
    },
    {
      "cell_type": "code",
      "metadata": {
        "id": "C3PTG3evP1kJ"
      },
      "source": [
        "new = np.squeeze(train_arrays[0])"
      ],
      "id": "C3PTG3evP1kJ",
      "execution_count": 38,
      "outputs": []
    },
    {
      "cell_type": "code",
      "metadata": {
        "colab": {
          "base_uri": "https://localhost:8080/"
        },
        "id": "1iUMTShNfsY7",
        "outputId": "96a70bcc-5bd2-4199-8f02-ae5ee02e2b37"
      },
      "source": [
        "new.shape"
      ],
      "id": "1iUMTShNfsY7",
      "execution_count": 39,
      "outputs": [
        {
          "output_type": "execute_result",
          "data": {
            "text/plain": [
              "(32, 32)"
            ]
          },
          "metadata": {},
          "execution_count": 39
        }
      ]
    },
    {
      "cell_type": "code",
      "metadata": {
        "colab": {
          "base_uri": "https://localhost:8080/"
        },
        "id": "pM9K2oehfv-K",
        "outputId": "2261df62-6b7d-4542-d7f5-6a7b26186486"
      },
      "source": [
        "np.squeeze(train_arrays[0]).shape"
      ],
      "id": "pM9K2oehfv-K",
      "execution_count": 40,
      "outputs": [
        {
          "output_type": "execute_result",
          "data": {
            "text/plain": [
              "(32, 32)"
            ]
          },
          "metadata": {},
          "execution_count": 40
        }
      ]
    },
    {
      "cell_type": "code",
      "metadata": {
        "colab": {
          "base_uri": "https://localhost:8080/",
          "height": 318
        },
        "id": "51jwO0_qPez8",
        "outputId": "e573515e-ecba-4260-bb0b-f9cf88ba1ff5"
      },
      "source": [
        "fig = plt.figure(figsize=(10,8))\n",
        "fig.add_subplot(1,2,1)\n",
        "plt.title(label='Greys')\n",
        "plt.imshow(new, cmap='Greys')\n",
        "\n",
        "fig.add_subplot(1,2,2)\n",
        "plt.title(label='Greys_r')\n",
        "plt.imshow(new, cmap='Greys_r');"
      ],
      "id": "51jwO0_qPez8",
      "execution_count": 41,
      "outputs": [
        {
          "output_type": "display_data",
          "data": {
            "image/png": "[encoded data removed]",
            "text/plain": [
              "<Figure size 720x576 with 2 Axes>"
            ]
          },
          "metadata": {
            "needs_background": "light"
          }
        }
      ]
    },
    {
      "cell_type": "code",
      "metadata": {
        "colab": {
          "base_uri": "https://localhost:8080/",
          "height": 499
        },
        "id": "bYO91u_denxj",
        "outputId": "d7a30a4f-b622-4fc7-f707-4aa816139b4e"
      },
      "source": [
        "fig = plt.figure(figsize=(8,8))\n",
        "for i in range(1,17):\n",
        "    fig.add_subplot(4,4,i)\n",
        "    plt.title(label=i)\n",
        "    plt.imshow(np.squeeze(train_arrays[i]), cmap='Greys')\n",
        "plt.show()"
      ],
      "id": "bYO91u_denxj",
      "execution_count": 47,
      "outputs": [
        {
          "output_type": "display_data",
          "data": {
            "image/png": "[encoded data removed]",
            "text/plain": [
              "<Figure size 576x576 with 16 Axes>"
            ]
          },
          "metadata": {
            "needs_background": "light"
          }
        }
      ]
    },
    {
      "cell_type": "code",
      "metadata": {
        "id": "WfkGKz-hKOyB"
      },
      "source": [
        "train_arrays = to_categorical(train_arrays)"
      ],
      "id": "WfkGKz-hKOyB",
      "execution_count": 11,
      "outputs": []
    },
    {
      "cell_type": "code",
      "metadata": {
        "colab": {
          "base_uri": "https://localhost:8080/"
        },
        "id": "rIuK2-Q3drfK",
        "outputId": "069b80de-a2db-4f25-86ff-1afaa28d1631"
      },
      "source": [
        "train_arrays[0].shape"
      ],
      "id": "rIuK2-Q3drfK",
      "execution_count": 48,
      "outputs": [
        {
          "output_type": "execute_result",
          "data": {
            "text/plain": [
              "(32, 32, 1)"
            ]
          },
          "metadata": {},
          "execution_count": 48
        }
      ]
    },
    {
      "cell_type": "code",
      "metadata": {
        "colab": {
          "base_uri": "https://localhost:8080/"
        },
        "id": "TA0vNVgGglUd",
        "outputId": "893bc3b2-e5c2-4e72-8215-85118a052279"
      },
      "source": [
        "len(train_arrays)"
      ],
      "id": "TA0vNVgGglUd",
      "execution_count": 54,
      "outputs": [
        {
          "output_type": "execute_result",
          "data": {
            "text/plain": [
              "13440"
            ]
          },
          "metadata": {},
          "execution_count": 54
        }
      ]
    },
    {
      "cell_type": "code",
      "metadata": {
        "colab": {
          "base_uri": "https://localhost:8080/"
        },
        "id": "rVImSyz6d78C",
        "outputId": "8fc934a8-2896-4b5e-a1e0-399f253d68ca"
      },
      "source": [
        "train_arrays[0][0][0]"
      ],
      "id": "rVImSyz6d78C",
      "execution_count": 52,
      "outputs": [
        {
          "output_type": "execute_result",
          "data": {
            "text/plain": [
              "array([0.], dtype=float32)"
            ]
          },
          "metadata": {},
          "execution_count": 52
        }
      ]
    },
    {
      "cell_type": "code",
      "metadata": {
        "id": "yiTMWgBdhNr8"
      },
      "source": [
        "test_list = os.listdir('arabic_chars/test')"
      ],
      "id": "yiTMWgBdhNr8",
      "execution_count": 64,
      "outputs": []
    },
    {
      "cell_type": "code",
      "metadata": {
        "colab": {
          "base_uri": "https://localhost:8080/"
        },
        "id": "C0iIX1t9hNff",
        "outputId": "8118e550-d340-4350-ded7-deb6364c9408"
      },
      "source": [
        "test_list[0:10]"
      ],
      "id": "C0iIX1t9hNff",
      "execution_count": 69,
      "outputs": [
        {
          "output_type": "execute_result",
          "data": {
            "text/plain": [
              "['id_2865_label_5.png',\n",
              " 'id_2881_label_13.png',\n",
              " 'id_151_label_20.png',\n",
              " 'id_2625_label_25.png',\n",
              " 'id_842_label_1.png',\n",
              " 'id_3067_label_22.png',\n",
              " 'id_2363_label_6.png',\n",
              " 'id_2494_label_15.png',\n",
              " 'id_2807_label_4.png',\n",
              " 'id_930_label_17.png']"
            ]
          },
          "metadata": {},
          "execution_count": 69
        }
      ]
    },
    {
      "cell_type": "code",
      "metadata": {
        "colab": {
          "base_uri": "https://localhost:8080/",
          "height": 35
        },
        "id": "QjVrVg1mhNY0",
        "outputId": "0140311a-9b59-440b-b6ef-dd3b88569459"
      },
      "source": [
        "test_list[1][-6:-4]"
      ],
      "id": "QjVrVg1mhNY0",
      "execution_count": 67,
      "outputs": [
        {
          "output_type": "execute_result",
          "data": {
            "application/vnd.google.colaboratory.intrinsic+json": {
              "type": "string"
            },
            "text/plain": [
              "'13'"
            ]
          },
          "metadata": {},
          "execution_count": 67
        }
      ]
    },
    {
      "cell_type": "code",
      "metadata": {
        "id": "tL8ZAWJZhNRF"
      },
      "source": [
        ""
      ],
      "id": "tL8ZAWJZhNRF",
      "execution_count": null,
      "outputs": []
    },
    {
      "cell_type": "code",
      "metadata": {
        "id": "9TR8t3jQhMvf"
      },
      "source": [
        ""
      ],
      "id": "9TR8t3jQhMvf",
      "execution_count": null,
      "outputs": []
    },
    {
      "cell_type": "code",
      "metadata": {
        "colab": {
          "base_uri": "https://localhost:8080/",
          "height": 302
        },
        "id": "2CtoRVGRbR5R",
        "outputId": "8f028047-f942-4761-f0d3-626f02883284"
      },
      "source": [
        "# example of loading the mnist dataset\n",
        "from keras.datasets import mnist\n",
        "from matplotlib import pyplot\n",
        "# load dataset\n",
        "(trainX, trainy), (testX, testy) = mnist.load_data()\n",
        "# summarize loaded dataset\n",
        "print('Train: X=%s, y=%s' % (trainX.shape, trainy.shape))\n",
        "print('Test: X=%s, y=%s' % (testX.shape, testy.shape))\n",
        "# plot first few images\n",
        "for i in range(9):\n",
        "\t# define subplot\n",
        "\tpyplot.subplot(330 + 1 + i)\n",
        "\t# plot raw pixel data\n",
        "\tpyplot.imshow(trainX[i], cmap=pyplot.get_cmap('gray'))\n",
        "# show the figure\n",
        "pyplot.show()"
      ],
      "id": "2CtoRVGRbR5R",
      "execution_count": 12,
      "outputs": [
        {
          "output_type": "stream",
          "name": "stdout",
          "text": [
            "Train: X=(60000, 28, 28), y=(60000,)\n",
            "Test: X=(10000, 28, 28), y=(10000,)\n"
          ]
        },
        {
          "output_type": "display_data",
          "data": {
            "image/png": "[encoded data removed]",
            "text/plain": [
              "<Figure size 432x288 with 9 Axes>"
            ]
          },
          "metadata": {
            "needs_background": "light"
          }
        }
      ]
    },
    {
      "cell_type": "code",
      "metadata": {
        "id": "Li7IcXnRcbv3"
      },
      "source": [
        "# load train and test dataset\n",
        "def load_dataset():\n",
        "\t# load dataset\n",
        "\t(trainX, trainY), (testX, testY) = mnist.load_data()\n",
        "\t# reshape dataset to have a single channel\n",
        "\ttrainX = trainX.reshape((trainX.shape[0], 28, 28, 1))\n",
        "\ttestX = testX.reshape((testX.shape[0], 28, 28, 1))\n",
        "\t# one hot encode target values\n",
        "\ttrainY = to_categorical(trainY)\n",
        "\ttestY = to_categorical(testY)\n",
        "\treturn trainX, trainY, testX, testY"
      ],
      "id": "Li7IcXnRcbv3",
      "execution_count": 15,
      "outputs": []
    },
    {
      "cell_type": "code",
      "metadata": {
        "id": "Y3dgQueKcf21"
      },
      "source": [
        "# scale pixels\n",
        "def prep_pixels(train, test):\n",
        "\t# convert from integers to floats\n",
        "\ttrain_norm = train.astype('float32')\n",
        "\ttest_norm = test.astype('float32')\n",
        "\t# normalize to range 0-1\n",
        "\ttrain_norm = train_norm / 255.0\n",
        "\ttest_norm = test_norm / 255.0\n",
        "\t# return normalized images\n",
        "\treturn train_norm, test_norm"
      ],
      "id": "Y3dgQueKcf21",
      "execution_count": 17,
      "outputs": []
    },
    {
      "cell_type": "code",
      "metadata": {
        "id": "_MXWzycecj7t"
      },
      "source": [
        ""
      ],
      "id": "_MXWzycecj7t",
      "execution_count": null,
      "outputs": []
    }
  ]
}