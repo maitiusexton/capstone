{
  "nbformat": 4,
  "nbformat_minor": 5,
  "metadata": {
    "colab": {
      "name": "scratch_3.ipynb",
      "provenance": [],
      "include_colab_link": true
    },
    "language_info": {
      "name": "python"
    },
    "kernelspec": {
      "name": "python3",
      "display_name": "Python 3"
    },
    "accelerator": "GPU"
  },
  "cells": [
    {
      "cell_type": "markdown",
      "metadata": {
        "id": "view-in-github",
        "colab_type": "text"
      },
      "source": [
        "<a href=\"https://colab.research.google.com/github/mdsexton/capstone/blob/main/scratch_3.ipynb\" target=\"_parent\"><img src=\"https://colab.research.google.com/assets/colab-badge.svg\" alt=\"Open In Colab\"/></a>"
      ]
    },
    {
      "cell_type": "code",
      "metadata": {
        "id": "lV1AbR177OHH"
      },
      "source": [
        "def increase_font():\n",
        "  from IPython.display import Javascript\n",
        "  display(Javascript('''\n",
        "  for (rule of document.styleSheets[0].cssRules){\n",
        "    if (rule.selectorText=='body') {\n",
        "      rule.style.fontSize = '16px'\n",
        "      break\n",
        "    }\n",
        "  }\n",
        "  '''))\n",
        "\n",
        "get_ipython().events.register('pre_run_cell', increase_font)"
      ],
      "id": "lV1AbR177OHH",
      "execution_count": 1,
      "outputs": []
    },
    {
      "cell_type": "code",
      "metadata": {
        "colab": {
          "base_uri": "https://localhost:8080/",
          "height": 36
        },
        "id": "6EmkDJR93Ux7",
        "outputId": "e5826d21-dfc4-477c-e8c9-34404169baf1"
      },
      "source": [
        "from google.colab import drive\n",
        "drive.mount('/content/drive', force_remount=True)"
      ],
      "id": "6EmkDJR93Ux7",
      "execution_count": 2,
      "outputs": [
        {
          "output_type": "display_data",
          "data": {
            "application/javascript": [
              "\n",
              "  for (rule of document.styleSheets[0].cssRules){\n",
              "    if (rule.selectorText=='body') {\n",
              "      rule.style.fontSize = '16px'\n",
              "      break\n",
              "    }\n",
              "  }\n",
              "  "
            ],
            "text/plain": [
              "<IPython.core.display.Javascript object>"
            ]
          },
          "metadata": {}
        },
        {
          "output_type": "stream",
          "name": "stdout",
          "text": [
            "Mounted at /content/drive\n"
          ]
        }
      ]
    },
    {
      "cell_type": "markdown",
      "metadata": {
        "id": "Oc2C5mTQ1G9u"
      },
      "source": [
        "Zipped files by navigating to desired directory in terminal then executing `zip -r test.zip . -x \".*\" -x \"__MACOSX\"` \\\n",
        "Then uploading to google drive"
      ],
      "id": "Oc2C5mTQ1G9u"
    },
    {
      "cell_type": "code",
      "metadata": {
        "id": "c8mOJmhoAcgv",
        "outputId": "bd5d2dd5-1942-4cf5-ab0b-a64d31674253",
        "colab": {
          "base_uri": "https://localhost:8080/",
          "height": 74
        }
      },
      "source": [
        "!unzip '/content/drive/MyDrive/general_assembly/code/capstone/arabic_characters/train.zip' -d '/content/drive/MyDrive/general_assembly/code/capstone/arabic_characters/train'"
      ],
      "id": "c8mOJmhoAcgv",
      "execution_count": 3,
      "outputs": [
        {
          "output_type": "display_data",
          "data": {
            "application/javascript": [
              "\n",
              "  for (rule of document.styleSheets[0].cssRules){\n",
              "    if (rule.selectorText=='body') {\n",
              "      rule.style.fontSize = '16px'\n",
              "      break\n",
              "    }\n",
              "  }\n",
              "  "
            ],
            "text/plain": [
              "<IPython.core.display.Javascript object>"
            ]
          },
          "metadata": {}
        },
        {
          "output_type": "stream",
          "name": "stdout",
          "text": [
            "Archive:  /content/drive/MyDrive/general_assembly/code/capstone/arabic_characters/train.zip\n",
            "replace /content/drive/MyDrive/general_assembly/code/capstone/arabic_characters/train/id_7752_label_17.png? [y]es, [n]o, [A]ll, [N]one, [r]ename: None\n",
            "\n"
          ]
        }
      ]
    },
    {
      "cell_type": "code",
      "metadata": {
        "id": "yr3XzsFYFCfE",
        "outputId": "d6578996-71d1-4ee3-92f1-7f9160950b5b",
        "colab": {
          "base_uri": "https://localhost:8080/",
          "height": 55
        }
      },
      "source": [
        "!unzip '/content/drive/MyDrive/general_assembly/code/capstone/arabic_characters/test.zip' -d '/content/drive/MyDrive/general_assembly/code/capstone/arabic_characters/test'"
      ],
      "id": "yr3XzsFYFCfE",
      "execution_count": 4,
      "outputs": [
        {
          "output_type": "display_data",
          "data": {
            "application/javascript": [
              "\n",
              "  for (rule of document.styleSheets[0].cssRules){\n",
              "    if (rule.selectorText=='body') {\n",
              "      rule.style.fontSize = '16px'\n",
              "      break\n",
              "    }\n",
              "  }\n",
              "  "
            ],
            "text/plain": [
              "<IPython.core.display.Javascript object>"
            ]
          },
          "metadata": {}
        },
        {
          "output_type": "stream",
          "name": "stdout",
          "text": [
            "Archive:  /content/drive/MyDrive/general_assembly/code/capstone/arabic_characters/test.zip\n",
            "replace /content/drive/MyDrive/general_assembly/code/capstone/arabic_characters/test/id_1575_label_4.png? [y]es, [n]o, [A]ll, [N]one, [r]ename: None\n"
          ]
        }
      ]
    },
    {
      "cell_type": "code",
      "metadata": {
        "colab": {
          "base_uri": "https://localhost:8080/",
          "height": 49
        },
        "id": "X4SscIFoAcKT",
        "outputId": "4d04ac3d-8b26-4e7b-815f-22b05ede4d4a"
      },
      "source": [
        "from IPython.display import Image\n",
        "Image('/content/drive/MyDrive/general_assembly/code/capstone/arabic_characters/test/id_1000_label_24.png')"
      ],
      "id": "X4SscIFoAcKT",
      "execution_count": 5,
      "outputs": [
        {
          "output_type": "display_data",
          "data": {
            "application/javascript": [
              "\n",
              "  for (rule of document.styleSheets[0].cssRules){\n",
              "    if (rule.selectorText=='body') {\n",
              "      rule.style.fontSize = '16px'\n",
              "      break\n",
              "    }\n",
              "  }\n",
              "  "
            ],
            "text/plain": [
              "<IPython.core.display.Javascript object>"
            ]
          },
          "metadata": {}
        },
        {
          "output_type": "execute_result",
          "data": {
            "image/png": "[encoded data removed]",
            "text/plain": [
              "<IPython.core.display.Image object>"
            ]
          },
          "metadata": {},
          "execution_count": 5
        }
      ]
    },
    {
      "cell_type": "code",
      "metadata": {
        "id": "vwVpvTfJx0Xd",
        "outputId": "6cda49ea-71d8-43cb-a6d5-7998f3a812b0",
        "colab": {
          "base_uri": "https://localhost:8080/",
          "height": 17
        }
      },
      "source": [
        "class_dict = {'01' : ('alef', 'أ'),\n",
        "              '02' : ('beh', 'ب'),\n",
        "              '03' : ('teh', 'ت'),\n",
        "              '04' : ('theh', 'ث'),\n",
        "              '05' : ('jeem', 'ج'),\n",
        "              '06' : ('7ah', 'ح'),\n",
        "              '07' : ('khah', 'خ'),\n",
        "              '08' : ('dal', 'د'),\n",
        "              '09' : ('thal', 'ذ'),\n",
        "              '10': ('reh', 'ر'),\n",
        "              '11': ('zain', 'ز'),\n",
        "              '12': ('seen', 'س'),\n",
        "              '13': ('sheen', 'ش'),\n",
        "              '14': ('sad', 'ص'),\n",
        "              '15': ('dad', 'ض'),\n",
        "              '16': ('6ah', 'ط'),\n",
        "              '17': ('zah', 'ظ'),\n",
        "              '18': ('ain', 'ع'),\n",
        "              '19': ('ghain', 'غ'),\n",
        "              '20': ('feh', 'ف'),\n",
        "              '21': ('qaf', 'ق'),\n",
        "              '22': ('kaf', 'ك'),\n",
        "              '23': ('lam', 'ل'),\n",
        "              '24': ('meem', 'م'),\n",
        "              '25': ('noon', 'ن'),\n",
        "              '26': ('heh', 'ﻫ'),\n",
        "              '27': ('waw', 'و'),\n",
        "              '28': ('yeh', 'ي')}"
      ],
      "id": "vwVpvTfJx0Xd",
      "execution_count": 6,
      "outputs": [
        {
          "output_type": "display_data",
          "data": {
            "application/javascript": [
              "\n",
              "  for (rule of document.styleSheets[0].cssRules){\n",
              "    if (rule.selectorText=='body') {\n",
              "      rule.style.fontSize = '16px'\n",
              "      break\n",
              "    }\n",
              "  }\n",
              "  "
            ],
            "text/plain": [
              "<IPython.core.display.Javascript object>"
            ]
          },
          "metadata": {}
        }
      ]
    },
    {
      "cell_type": "code",
      "metadata": {
        "id": "iWhv7zESFvZx",
        "outputId": "3077de2e-2bde-4409-d2ac-43ce34afbace",
        "colab": {
          "base_uri": "https://localhost:8080/",
          "height": 17
        }
      },
      "source": [
        "import matplotlib.pyplot as plt\n",
        "import numpy as np\n",
        "import os\n",
        "import pandas as pd\n",
        "\n",
        "from tensorflow.keras.utils import to_categorical\n",
        "from tensorflow.keras.preprocessing.image import img_to_array, load_img, array_to_img\n",
        "from tensorflow.keras.layers import Dense, Dropout, Flatten, Conv2D, MaxPooling2D\n",
        "from tensorflow.keras.models import Sequential\n",
        "from tensorflow.keras.optimizers import SGD\n",
        " \n",
        "\n",
        "np.random.seed(42)\n",
        "np.set_printoptions(threshold=np.inf)"
      ],
      "id": "iWhv7zESFvZx",
      "execution_count": 7,
      "outputs": [
        {
          "output_type": "display_data",
          "data": {
            "application/javascript": [
              "\n",
              "  for (rule of document.styleSheets[0].cssRules){\n",
              "    if (rule.selectorText=='body') {\n",
              "      rule.style.fontSize = '16px'\n",
              "      break\n",
              "    }\n",
              "  }\n",
              "  "
            ],
            "text/plain": [
              "<IPython.core.display.Javascript object>"
            ]
          },
          "metadata": {}
        }
      ]
    },
    {
      "cell_type": "code",
      "metadata": {
        "colab": {
          "base_uri": "https://localhost:8080/",
          "height": 36
        },
        "id": "qNgRv4R-GuaP",
        "outputId": "e6a5c3f2-fb95-42fc-b671-2481c082a5d8"
      },
      "source": [
        "X_train = []\n",
        "y_train = []\n",
        "\n",
        "train_path = '/content/drive/MyDrive/general_assembly/code/capstone/arabic_characters/train/'\n",
        "\n",
        "for file in os.listdir(train_path):\n",
        "    try:\n",
        "        char = load_img(train_path + file, target_size=(32, 32), color_mode='grayscale')\n",
        "        char_arr = img_to_array(char) / 31\n",
        "        X_train.append(char_arr)\n",
        "        y_train.append(file[-6:-4].replace('_', '0')) #is there a better/more elegant way to do this?\n",
        "\n",
        "    except:\n",
        "        print(f'Error for file: {file}')\n",
        "\n",
        "print(f'{len(X_train)} pictures converted')"
      ],
      "id": "qNgRv4R-GuaP",
      "execution_count": 8,
      "outputs": [
        {
          "output_type": "display_data",
          "data": {
            "application/javascript": [
              "\n",
              "  for (rule of document.styleSheets[0].cssRules){\n",
              "    if (rule.selectorText=='body') {\n",
              "      rule.style.fontSize = '16px'\n",
              "      break\n",
              "    }\n",
              "  }\n",
              "  "
            ],
            "text/plain": [
              "<IPython.core.display.Javascript object>"
            ]
          },
          "metadata": {}
        },
        {
          "output_type": "stream",
          "name": "stdout",
          "text": [
            "13440 pictures converted\n"
          ]
        }
      ]
    },
    {
      "cell_type": "code",
      "metadata": {
        "colab": {
          "base_uri": "https://localhost:8080/",
          "height": 36
        },
        "id": "iR1TwuZ1aqbn",
        "outputId": "86799508-87d4-4a5c-8708-937af0c2df0f"
      },
      "source": [
        "X_test = []\n",
        "y_test = []\n",
        "\n",
        "test_path = '/content/drive/MyDrive/general_assembly/code/capstone/arabic_characters/test/'\n",
        "\n",
        "for file in os.listdir(test_path):\n",
        "    try:\n",
        "        char = load_img(test_path + file, target_size=(32, 32), color_mode='grayscale')\n",
        "        char_arr = img_to_array(char) / 31\n",
        "        X_test.append(char_arr)\n",
        "        y_test.append(file[-6:-4].replace('_', '0')) #is there a better/more elegant way to do this?\n",
        "    except:\n",
        "        print(f'Error for file: {file}')\n",
        "\n",
        "print(f'{len(X_test)} pictures converted')"
      ],
      "id": "iR1TwuZ1aqbn",
      "execution_count": 9,
      "outputs": [
        {
          "output_type": "display_data",
          "data": {
            "application/javascript": [
              "\n",
              "  for (rule of document.styleSheets[0].cssRules){\n",
              "    if (rule.selectorText=='body') {\n",
              "      rule.style.fontSize = '16px'\n",
              "      break\n",
              "    }\n",
              "  }\n",
              "  "
            ],
            "text/plain": [
              "<IPython.core.display.Javascript object>"
            ]
          },
          "metadata": {}
        },
        {
          "output_type": "stream",
          "name": "stdout",
          "text": [
            "3360 pictures converted\n"
          ]
        }
      ]
    },
    {
      "cell_type": "code",
      "metadata": {
        "id": "6nEW8CeguHUd",
        "colab": {
          "base_uri": "https://localhost:8080/",
          "height": 716
        },
        "outputId": "fc2b0a47-3d1b-4058-a375-a0d0e5d2ee08"
      },
      "source": [
        "fig = plt.figure(figsize=(12, 12))\n",
        "for i in range(1,17):\n",
        "    fig.add_subplot(4,4,i)\n",
        "    plt.title(label=class_dict[y_test[i]])\n",
        "    plt.imshow(np.squeeze(X_test[i]), cmap='Greys')\n",
        "plt.subplots_adjust(wspace=0.5, hspace=0.5) \n",
        "plt.show()"
      ],
      "id": "6nEW8CeguHUd",
      "execution_count": 10,
      "outputs": [
        {
          "output_type": "display_data",
          "data": {
            "application/javascript": [
              "\n",
              "  for (rule of document.styleSheets[0].cssRules){\n",
              "    if (rule.selectorText=='body') {\n",
              "      rule.style.fontSize = '16px'\n",
              "      break\n",
              "    }\n",
              "  }\n",
              "  "
            ],
            "text/plain": [
              "<IPython.core.display.Javascript object>"
            ]
          },
          "metadata": {}
        },
        {
          "output_type": "display_data",
          "data": {
            "image/png": "[encoded data removed]",
            "text/plain": [
              "<Figure size 864x864 with 16 Axes>"
            ]
          },
          "metadata": {
            "needs_background": "light"
          }
        }
      ]
    },
    {
      "cell_type": "code",
      "metadata": {
        "id": "H5iXFRoVNACj",
        "outputId": "85003156-10e3-48f7-bef0-576d32baeb80",
        "colab": {
          "base_uri": "https://localhost:8080/",
          "height": 17
        }
      },
      "source": [
        "y_train = to_categorical(y_train)\n",
        "y_test = to_categorical(y_test)"
      ],
      "id": "H5iXFRoVNACj",
      "execution_count": 11,
      "outputs": [
        {
          "output_type": "display_data",
          "data": {
            "application/javascript": [
              "\n",
              "  for (rule of document.styleSheets[0].cssRules){\n",
              "    if (rule.selectorText=='body') {\n",
              "      rule.style.fontSize = '16px'\n",
              "      break\n",
              "    }\n",
              "  }\n",
              "  "
            ],
            "text/plain": [
              "<IPython.core.display.Javascript object>"
            ]
          },
          "metadata": {}
        }
      ]
    },
    {
      "cell_type": "markdown",
      "metadata": {
        "id": "G13EduapW74m"
      },
      "source": [
        "cell below is from https://machinelearningmastery.com/how-to-develop-a-convolutional-neural-network-from-scratch-for-mnist-handwritten-digit-classification/"
      ],
      "id": "G13EduapW74m"
    },
    {
      "cell_type": "code",
      "metadata": {
        "id": "Y3dgQueKcf21",
        "outputId": "5a6a474b-703d-426f-b769-2c261a032597",
        "colab": {
          "base_uri": "https://localhost:8080/",
          "height": 17
        }
      },
      "source": [
        "# scale pixels\n",
        "def prep_pixels(train, test):\n",
        "\t# convert from integers to floats\n",
        "\ttrain_norm = train.astype('float32')\n",
        "\ttest_norm = test.astype('float32')\n",
        "\t# normalize to range 0-1\n",
        "\ttrain_norm = train_norm / 255.0\n",
        "\ttest_norm = test_norm / 255.0\n",
        "\t# return normalized images\n",
        "\treturn train_norm, test_norm"
      ],
      "id": "Y3dgQueKcf21",
      "execution_count": 12,
      "outputs": [
        {
          "output_type": "display_data",
          "data": {
            "application/javascript": [
              "\n",
              "  for (rule of document.styleSheets[0].cssRules){\n",
              "    if (rule.selectorText=='body') {\n",
              "      rule.style.fontSize = '16px'\n",
              "      break\n",
              "    }\n",
              "  }\n",
              "  "
            ],
            "text/plain": [
              "<IPython.core.display.Javascript object>"
            ]
          },
          "metadata": {}
        }
      ]
    },
    {
      "cell_type": "markdown",
      "metadata": {
        "id": "S3UNNObOaV_O"
      },
      "source": [
        "## Baseline Model CNN"
      ],
      "id": "S3UNNObOaV_O"
    },
    {
      "cell_type": "code",
      "metadata": {
        "id": "_MXWzycecj7t",
        "outputId": "83ba86be-6c0c-43e2-96c2-332a154edb39",
        "colab": {
          "base_uri": "https://localhost:8080/",
          "height": 17
        }
      },
      "source": [
        "# construct network\n",
        "baseline = Sequential()\n",
        "\n",
        "# feature learning - first layer\n",
        "baseline.add(Conv2D(32, (3, 3), activation='relu', kernel_initializer='he_uniform', input_shape=(32, 32, 1)))\n",
        "baseline.add(MaxPooling2D((2, 2)))\n",
        "\n",
        "# classification\n",
        "baseline.add(Flatten())\n",
        "baseline.add(Dense(100, activation='relu', kernel_initializer='he_uniform'))\n",
        "baseline.add(Dense(29, activation='softmax'))\n",
        "\n",
        "# compile baseline\n",
        "opt = SGD(learning_rate=0.01, momentum=0.9)\n",
        "baseline.compile(optimizer=opt, loss='categorical_crossentropy', metrics=['accuracy'])\n",
        "\n",
        "# classification accuracy metric is appropriates since we have the same number\n",
        "# (480) of samples in each of the 28 classes (not counting 0 which has 0)"
      ],
      "id": "_MXWzycecj7t",
      "execution_count": 13,
      "outputs": [
        {
          "output_type": "display_data",
          "data": {
            "application/javascript": [
              "\n",
              "  for (rule of document.styleSheets[0].cssRules){\n",
              "    if (rule.selectorText=='body') {\n",
              "      rule.style.fontSize = '16px'\n",
              "      break\n",
              "    }\n",
              "  }\n",
              "  "
            ],
            "text/plain": [
              "<IPython.core.display.Javascript object>"
            ]
          },
          "metadata": {}
        }
      ]
    },
    {
      "cell_type": "code",
      "metadata": {
        "id": "yrkrU1XlnD9v",
        "outputId": "75f4af88-d847-4152-8572-6507f3a7b62f",
        "colab": {
          "base_uri": "https://localhost:8080/",
          "height": 17
        }
      },
      "source": [
        "X_train_array = np.array(X_train)\n",
        "X_test_array = np.array(X_test)"
      ],
      "id": "yrkrU1XlnD9v",
      "execution_count": 14,
      "outputs": [
        {
          "output_type": "display_data",
          "data": {
            "application/javascript": [
              "\n",
              "  for (rule of document.styleSheets[0].cssRules){\n",
              "    if (rule.selectorText=='body') {\n",
              "      rule.style.fontSize = '16px'\n",
              "      break\n",
              "    }\n",
              "  }\n",
              "  "
            ],
            "text/plain": [
              "<IPython.core.display.Javascript object>"
            ]
          },
          "metadata": {}
        }
      ]
    },
    {
      "cell_type": "code",
      "metadata": {
        "id": "iyRR3D0QedmR",
        "outputId": "a727a18c-4dae-4839-8e36-d0da4d9c9bce",
        "colab": {
          "base_uri": "https://localhost:8080/",
          "height": 207
        }
      },
      "source": [
        "history = baseline.fit(X_train_array, y_train, validation_data=(X_test_array, y_test), batch_size=32, epochs=5)"
      ],
      "id": "iyRR3D0QedmR",
      "execution_count": 15,
      "outputs": [
        {
          "output_type": "display_data",
          "data": {
            "application/javascript": [
              "\n",
              "  for (rule of document.styleSheets[0].cssRules){\n",
              "    if (rule.selectorText=='body') {\n",
              "      rule.style.fontSize = '16px'\n",
              "      break\n",
              "    }\n",
              "  }\n",
              "  "
            ],
            "text/plain": [
              "<IPython.core.display.Javascript object>"
            ]
          },
          "metadata": {}
        },
        {
          "output_type": "stream",
          "name": "stdout",
          "text": [
            "Epoch 1/5\n",
            "420/420 [==============================] - 17s 4ms/step - loss: 2.1625 - accuracy: 0.3966 - val_loss: 1.2592 - val_accuracy: 0.6018\n",
            "Epoch 2/5\n",
            "420/420 [==============================] - 1s 3ms/step - loss: 0.9990 - accuracy: 0.6781 - val_loss: 1.0006 - val_accuracy: 0.6720\n",
            "Epoch 3/5\n",
            "420/420 [==============================] - 1s 3ms/step - loss: 0.6746 - accuracy: 0.7749 - val_loss: 1.0537 - val_accuracy: 0.6765\n",
            "Epoch 4/5\n",
            "420/420 [==============================] - 1s 3ms/step - loss: 0.5028 - accuracy: 0.8287 - val_loss: 1.0285 - val_accuracy: 0.7205\n",
            "Epoch 5/5\n",
            "420/420 [==============================] - 1s 3ms/step - loss: 0.3835 - accuracy: 0.8653 - val_loss: 1.1677 - val_accuracy: 0.6914\n"
          ]
        }
      ]
    },
    {
      "cell_type": "markdown",
      "metadata": {
        "id": "v6g7FER9oGqZ"
      },
      "source": [
        "## Model 1"
      ],
      "id": "v6g7FER9oGqZ"
    },
    {
      "cell_type": "code",
      "metadata": {
        "id": "DNt2u8ZQkOcA",
        "outputId": "9d0faada-a959-42ca-cf19-ae99a496cf2f",
        "colab": {
          "base_uri": "https://localhost:8080/",
          "height": 1000
        }
      },
      "source": [
        "history1 = baseline.fit(X_train_array, y_train, validation_data=(X_test_array, y_test), batch_size=256, epochs=50)"
      ],
      "id": "DNt2u8ZQkOcA",
      "execution_count": 16,
      "outputs": [
        {
          "output_type": "display_data",
          "data": {
            "application/javascript": [
              "\n",
              "  for (rule of document.styleSheets[0].cssRules){\n",
              "    if (rule.selectorText=='body') {\n",
              "      rule.style.fontSize = '16px'\n",
              "      break\n",
              "    }\n",
              "  }\n",
              "  "
            ],
            "text/plain": [
              "<IPython.core.display.Javascript object>"
            ]
          },
          "metadata": {}
        },
        {
          "output_type": "stream",
          "name": "stdout",
          "text": [
            "Epoch 1/50\n",
            "53/53 [==============================] - 1s 11ms/step - loss: 0.1854 - accuracy: 0.9423 - val_loss: 0.9913 - val_accuracy: 0.7604\n",
            "Epoch 2/50\n",
            "53/53 [==============================] - 0s 7ms/step - loss: 0.0904 - accuracy: 0.9777 - val_loss: 1.0105 - val_accuracy: 0.7693\n",
            "Epoch 3/50\n",
            "53/53 [==============================] - 0s 7ms/step - loss: 0.0653 - accuracy: 0.9873 - val_loss: 1.0545 - val_accuracy: 0.7711\n",
            "Epoch 4/50\n",
            "53/53 [==============================] - 0s 7ms/step - loss: 0.0515 - accuracy: 0.9914 - val_loss: 1.0708 - val_accuracy: 0.7741\n",
            "Epoch 5/50\n",
            "53/53 [==============================] - 0s 7ms/step - loss: 0.0420 - accuracy: 0.9941 - val_loss: 1.0998 - val_accuracy: 0.7759\n",
            "Epoch 6/50\n",
            "53/53 [==============================] - 0s 7ms/step - loss: 0.0352 - accuracy: 0.9963 - val_loss: 1.1258 - val_accuracy: 0.7738\n",
            "Epoch 7/50\n",
            "53/53 [==============================] - 0s 7ms/step - loss: 0.0302 - accuracy: 0.9972 - val_loss: 1.1450 - val_accuracy: 0.7735\n",
            "Epoch 8/50\n",
            "53/53 [==============================] - 0s 7ms/step - loss: 0.0261 - accuracy: 0.9978 - val_loss: 1.1667 - val_accuracy: 0.7738\n",
            "Epoch 9/50\n",
            "53/53 [==============================] - 0s 7ms/step - loss: 0.0229 - accuracy: 0.9982 - val_loss: 1.1853 - val_accuracy: 0.7753\n",
            "Epoch 10/50\n",
            "53/53 [==============================] - 0s 7ms/step - loss: 0.0204 - accuracy: 0.9987 - val_loss: 1.2036 - val_accuracy: 0.7738\n",
            "Epoch 11/50\n",
            "53/53 [==============================] - 0s 7ms/step - loss: 0.0183 - accuracy: 0.9987 - val_loss: 1.2226 - val_accuracy: 0.7741\n",
            "Epoch 12/50\n",
            "53/53 [==============================] - 0s 7ms/step - loss: 0.0165 - accuracy: 0.9990 - val_loss: 1.2397 - val_accuracy: 0.7729\n",
            "Epoch 13/50\n",
            "53/53 [==============================] - 0s 7ms/step - loss: 0.0150 - accuracy: 0.9990 - val_loss: 1.2564 - val_accuracy: 0.7729\n",
            "Epoch 14/50\n",
            "53/53 [==============================] - 0s 7ms/step - loss: 0.0137 - accuracy: 0.9991 - val_loss: 1.2720 - val_accuracy: 0.7732\n",
            "Epoch 15/50\n",
            "53/53 [==============================] - 0s 7ms/step - loss: 0.0126 - accuracy: 0.9993 - val_loss: 1.2849 - val_accuracy: 0.7729\n",
            "Epoch 16/50\n",
            "53/53 [==============================] - 0s 7ms/step - loss: 0.0116 - accuracy: 0.9995 - val_loss: 1.2968 - val_accuracy: 0.7717\n",
            "Epoch 17/50\n",
            "53/53 [==============================] - 0s 7ms/step - loss: 0.0108 - accuracy: 0.9995 - val_loss: 1.3111 - val_accuracy: 0.7708\n",
            "Epoch 18/50\n",
            "53/53 [==============================] - 0s 7ms/step - loss: 0.0101 - accuracy: 0.9996 - val_loss: 1.3268 - val_accuracy: 0.7711\n",
            "Epoch 19/50\n",
            "53/53 [==============================] - 0s 7ms/step - loss: 0.0094 - accuracy: 0.9997 - val_loss: 1.3372 - val_accuracy: 0.7708\n",
            "Epoch 20/50\n",
            "53/53 [==============================] - 0s 7ms/step - loss: 0.0088 - accuracy: 0.9997 - val_loss: 1.3474 - val_accuracy: 0.7711\n",
            "Epoch 21/50\n",
            "53/53 [==============================] - 0s 7ms/step - loss: 0.0083 - accuracy: 0.9997 - val_loss: 1.3586 - val_accuracy: 0.7711\n",
            "Epoch 22/50\n",
            "53/53 [==============================] - 0s 7ms/step - loss: 0.0078 - accuracy: 0.9997 - val_loss: 1.3679 - val_accuracy: 0.7708\n",
            "Epoch 23/50\n",
            "53/53 [==============================] - 0s 7ms/step - loss: 0.0074 - accuracy: 0.9997 - val_loss: 1.3785 - val_accuracy: 0.7720\n",
            "Epoch 24/50\n",
            "53/53 [==============================] - 0s 7ms/step - loss: 0.0070 - accuracy: 0.9997 - val_loss: 1.3883 - val_accuracy: 0.7726\n",
            "Epoch 25/50\n",
            "53/53 [==============================] - 0s 7ms/step - loss: 0.0066 - accuracy: 0.9997 - val_loss: 1.3984 - val_accuracy: 0.7711\n",
            "Epoch 26/50\n",
            "53/53 [==============================] - 0s 7ms/step - loss: 0.0063 - accuracy: 0.9997 - val_loss: 1.4098 - val_accuracy: 0.7705\n",
            "Epoch 27/50\n",
            "53/53 [==============================] - 0s 7ms/step - loss: 0.0060 - accuracy: 0.9997 - val_loss: 1.4188 - val_accuracy: 0.7720\n",
            "Epoch 28/50\n",
            "53/53 [==============================] - 0s 8ms/step - loss: 0.0057 - accuracy: 0.9998 - val_loss: 1.4248 - val_accuracy: 0.7702\n",
            "Epoch 29/50\n",
            "53/53 [==============================] - 0s 8ms/step - loss: 0.0055 - accuracy: 0.9998 - val_loss: 1.4326 - val_accuracy: 0.7714\n",
            "Epoch 30/50\n",
            "53/53 [==============================] - 0s 7ms/step - loss: 0.0052 - accuracy: 0.9998 - val_loss: 1.4389 - val_accuracy: 0.7708\n",
            "Epoch 31/50\n",
            "53/53 [==============================] - 0s 7ms/step - loss: 0.0050 - accuracy: 0.9999 - val_loss: 1.4491 - val_accuracy: 0.7708\n",
            "Epoch 32/50\n",
            "53/53 [==============================] - 0s 7ms/step - loss: 0.0048 - accuracy: 0.9999 - val_loss: 1.4568 - val_accuracy: 0.7705\n",
            "Epoch 33/50\n",
            "53/53 [==============================] - 0s 7ms/step - loss: 0.0046 - accuracy: 0.9999 - val_loss: 1.4670 - val_accuracy: 0.7714\n",
            "Epoch 34/50\n",
            "53/53 [==============================] - 0s 7ms/step - loss: 0.0045 - accuracy: 0.9999 - val_loss: 1.4706 - val_accuracy: 0.7702\n",
            "Epoch 35/50\n",
            "53/53 [==============================] - 0s 7ms/step - loss: 0.0043 - accuracy: 0.9999 - val_loss: 1.4774 - val_accuracy: 0.7705\n",
            "Epoch 36/50\n",
            "53/53 [==============================] - 0s 7ms/step - loss: 0.0042 - accuracy: 0.9999 - val_loss: 1.4842 - val_accuracy: 0.7714\n",
            "Epoch 37/50\n",
            "53/53 [==============================] - 0s 7ms/step - loss: 0.0040 - accuracy: 0.9999 - val_loss: 1.4899 - val_accuracy: 0.7702\n",
            "Epoch 38/50\n",
            "53/53 [==============================] - 0s 7ms/step - loss: 0.0039 - accuracy: 0.9999 - val_loss: 1.4978 - val_accuracy: 0.7708\n",
            "Epoch 39/50\n",
            "53/53 [==============================] - 0s 7ms/step - loss: 0.0038 - accuracy: 0.9999 - val_loss: 1.5039 - val_accuracy: 0.7705\n",
            "Epoch 40/50\n",
            "53/53 [==============================] - 0s 7ms/step - loss: 0.0037 - accuracy: 0.9999 - val_loss: 1.5092 - val_accuracy: 0.7705\n",
            "Epoch 41/50\n",
            "53/53 [==============================] - 0s 7ms/step - loss: 0.0036 - accuracy: 0.9999 - val_loss: 1.5146 - val_accuracy: 0.7702\n",
            "Epoch 42/50\n",
            "53/53 [==============================] - 0s 7ms/step - loss: 0.0034 - accuracy: 0.9999 - val_loss: 1.5212 - val_accuracy: 0.7708\n",
            "Epoch 43/50\n",
            "53/53 [==============================] - 0s 7ms/step - loss: 0.0033 - accuracy: 0.9999 - val_loss: 1.5279 - val_accuracy: 0.7702\n",
            "Epoch 44/50\n",
            "53/53 [==============================] - 0s 7ms/step - loss: 0.0033 - accuracy: 0.9999 - val_loss: 1.5326 - val_accuracy: 0.7699\n",
            "Epoch 45/50\n",
            "53/53 [==============================] - 0s 7ms/step - loss: 0.0032 - accuracy: 0.9999 - val_loss: 1.5399 - val_accuracy: 0.7702\n",
            "Epoch 46/50\n",
            "53/53 [==============================] - 0s 7ms/step - loss: 0.0031 - accuracy: 0.9999 - val_loss: 1.5417 - val_accuracy: 0.7693\n",
            "Epoch 47/50\n",
            "53/53 [==============================] - 0s 7ms/step - loss: 0.0030 - accuracy: 0.9999 - val_loss: 1.5485 - val_accuracy: 0.7699\n",
            "Epoch 48/50\n",
            "53/53 [==============================] - 0s 7ms/step - loss: 0.0029 - accuracy: 0.9999 - val_loss: 1.5523 - val_accuracy: 0.7699\n",
            "Epoch 49/50\n",
            "53/53 [==============================] - 0s 7ms/step - loss: 0.0029 - accuracy: 0.9999 - val_loss: 1.5571 - val_accuracy: 0.7705\n",
            "Epoch 50/50\n",
            "53/53 [==============================] - 0s 7ms/step - loss: 0.0028 - accuracy: 0.9999 - val_loss: 1.5611 - val_accuracy: 0.7702\n"
          ]
        }
      ]
    },
    {
      "cell_type": "code",
      "metadata": {
        "id": "OvD5boT7oSzp"
      },
      "source": [
        ""
      ],
      "id": "OvD5boT7oSzp",
      "execution_count": 16,
      "outputs": []
    }
  ]
}