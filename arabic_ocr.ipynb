{
 "cells": [
  {
   "cell_type": "code",
   "execution_count": 1,
   "id": "b94aa57c",
   "metadata": {},
   "outputs": [],
   "source": [
    "from ArabicOcr import arabicocr\n",
    "import cv2"
   ]
  },
  {
   "cell_type": "code",
   "execution_count": 2,
   "id": "8bd54669",
   "metadata": {},
   "outputs": [
    {
     "name": "stderr",
     "output_type": "stream",
     "text": [
      "Using CPU. Note: This module is much faster with a GPU.\n"
     ]
    },
    {
     "name": "stdout",
     "output_type": "stream",
     "text": [
      "[INFO] OCR'ing input image...\n"
     ]
    },
    {
     "name": "stderr",
     "output_type": "stream",
     "text": [
      "/Users/maitiusexton/opt/anaconda3/lib/python3.8/site-packages/torch/nn/functional.py:718: UserWarning: Named tensors and all their associated APIs are an experimental feature and subject to change. Please do not use them for anything important until they are released as stable. (Triggered internally at  /Users/distiller/project/conda/conda-bld/pytorch_1623459044803/work/c10/core/TensorImpl.h:1156.)\n",
      "  return torch.max_pool2d(input, kernel_size, stride, padding, dilation, ceil_mode)\n"
     ]
    },
    {
     "name": "stdout",
     "output_type": "stream",
     "text": [
      "[INFO] 0.1465: مم\n",
      "[INFO] 0.4047: .الد\n",
      "[INFO] 0.2577: بالحفل\n",
      "[INFO] 0.1157: اا غضل ماررفر الل4 تعال وصى به\n",
      "[INFO] 0.0842:  اطات يالا ده\n",
      "[INFO] 0.1181: لدام '\n",
      "[INFO] 0.2152: ,>2@\n",
      "[[[[0, 24], [86, 24], [86, 98], [0, 98]], 'مم', 0.14645673202367665], [[[215, 43], [333, 43], [333, 109], [215, 109]], '.الد', 0.40471118688583374], [[[321, 18], [502, 18], [502, 116], [321, 116]], 'بالحفل', 0.25770223256831465], [[[603, 5], [1451, 5], [1451, 119], [603, 119]], 'اا غضل ماررفر الل4 تعال وصى به', 0.11569555276409876], [[[1436, 0], [1898, 0], [1898, 117], [1436, 117]], ' اطات يالا ده', 0.08417995822358465], [[[475.8834409320689, 35.20554875355127], [612.1360233604094, 13.596951717105043], [621.1165590679311, 107.79445124644873], [484.8639766395907, 129.40304828289496]], \"لدام '\", 0.11809027499924452], [[[84.11324669488432, 19.04379161833165], [228.82076345167087, 61.212786490184335], [203.8867533051157, 137.95620838166835], [58.17923654832914, 95.78721350981566]], ',>2@', 0.21523571014404297]]\n",
      "#########################\n"
     ]
    }
   ],
   "source": [
    "image_path = './KHATT_v1.0/KHATT-Pilot/line_images/AHTD3A0001_Para2_3.tif'\n",
    "out_image='out.jpg'\n",
    "results=arabicocr.arabic_ocr(image_path,out_image)\n",
    "print(results)\n",
    "words=[]\n",
    "print('#########################')\n",
    "for i in range(len(results)):\t\n",
    "\t\tword=results[i][1]\n",
    "\t\twords.append(word)\n",
    "with open ('file.txt','w',encoding='utf-8')as myfile:\n",
    "\t\tmyfile.write(str(words))"
   ]
  },
  {
   "cell_type": "code",
   "execution_count": null,
   "id": "5c008071",
   "metadata": {},
   "outputs": [],
   "source": [
    "img = cv2.imread('out.jpg', cv2.IMREAD_UNCHANGED)\n",
    "cv2.imshow(\"arabic ocr\",img)"
   ]
  },
  {
   "cell_type": "code",
   "execution_count": null,
   "id": "2bc71cf1",
   "metadata": {},
   "outputs": [],
   "source": []
  }
 ],
 "metadata": {
  "kernelspec": {
   "display_name": "Python 3",
   "language": "python",
   "name": "python3"
  },
  "language_info": {
   "codemirror_mode": {
    "name": "ipython",
    "version": 3
   },
   "file_extension": ".py",
   "mimetype": "text/x-python",
   "name": "python",
   "nbconvert_exporter": "python",
   "pygments_lexer": "ipython3",
   "version": "3.8.10"
  }
 },
 "nbformat": 4,
 "nbformat_minor": 5
}
