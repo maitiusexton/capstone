{
  "nbformat": 4,
  "nbformat_minor": 5,
  "metadata": {
    "colab": {
      "name": "scratch_2.ipynb",
      "provenance": [],
      "include_colab_link": true
    },
    "kernelspec": {
      "display_name": "Python 3",
      "language": "python",
      "name": "python3"
    },
    "language_info": {
      "codemirror_mode": {
        "name": "ipython",
        "version": 3
      },
      "file_extension": ".py",
      "mimetype": "text/x-python",
      "name": "python",
      "nbconvert_exporter": "python",
      "pygments_lexer": "ipython3",
      "version": "3.8.10"
    },
    "accelerator": "GPU"
  },
  "cells": [
    {
      "cell_type": "markdown",
      "metadata": {
        "id": "view-in-github",
        "colab_type": "text"
      },
      "source": [
        "<a href=\"https://colab.research.google.com/github/mdsexton/capstone/blob/main/cnn_model_1_scratch.ipynb\" target=\"_parent\"><img src=\"https://colab.research.google.com/assets/colab-badge.svg\" alt=\"Open In Colab\"/></a>"
      ]
    },
    {
      "cell_type": "code",
      "metadata": {
        "colab": {
          "base_uri": "https://localhost:8080/"
        },
        "id": "KDYOCXlgvg2R",
        "outputId": "d33534e5-7598-419a-8051-387a49abdd8a"
      },
      "source": [
        "from google.colab import drive\n",
        "drive.mount('/content/drive', force_remount=True)"
      ],
      "id": "KDYOCXlgvg2R",
      "execution_count": 1,
      "outputs": [
        {
          "output_type": "stream",
          "name": "stdout",
          "text": [
            "Mounted at /content/drive\n"
          ]
        }
      ]
    },
    {
      "cell_type": "code",
      "metadata": {
        "id": "X4EvVlChvl8r"
      },
      "source": [
        "drive_path = '/content/drive/MyDrive/general_assembly/code/capstone/arabic_characters/'"
      ],
      "id": "X4EvVlChvl8r",
      "execution_count": 2,
      "outputs": []
    },
    {
      "cell_type": "code",
      "metadata": {
        "id": "I1RTWwRnwcRo"
      },
      "source": [
        "import pickle\n",
        "\n",
        "import numpy as np\n",
        "import matplotlib.pyplot as plt\n",
        "\n",
        "from tensorflow.keras.models import Sequential\n",
        "from tensorflow.keras.layers import Conv2D, MaxPooling2D, Flatten, Dense\n",
        "from tensorflow.keras.optimizers import SGD\n",
        "\n",
        "np.random.seed(42)"
      ],
      "id": "I1RTWwRnwcRo",
      "execution_count": 3,
      "outputs": []
    },
    {
      "cell_type": "code",
      "metadata": {
        "id": "nH4EfiD7wia0"
      },
      "source": [
        "with open(drive_path + 'arabchars.pkl', 'rb') as f:\n",
        "    ac_data = pickle.load(f)"
      ],
      "id": "nH4EfiD7wia0",
      "execution_count": 4,
      "outputs": []
    },
    {
      "cell_type": "code",
      "metadata": {
        "id": "QIWRdz8iwuN-"
      },
      "source": [
        "train_imgs = ac_data[0].copy()\n",
        "test_imgs = ac_data[1].copy()\n",
        "train_labels = ac_data[2].copy()\n",
        "test_labels = ac_data[3].copy()\n",
        "X_train = ac_data[4].copy()\n",
        "X_test = ac_data[5].copy()\n",
        "y_train = ac_data[6].copy()\n",
        "y_test = ac_data[7].copy()\n",
        "class_dict = ac_data[8].copy()"
      ],
      "id": "QIWRdz8iwuN-",
      "execution_count": 5,
      "outputs": []
    },
    {
      "cell_type": "markdown",
      "metadata": {
        "id": "YYV8VmmO4jDg"
      },
      "source": [
        "## CNN Model #1\n",
        "This is the model proposed in the paper outlining the data set by the people who collected the data [(source)](https://www.researchgate.net/publication/313891953_Arabic_Handwritten_Characters_Recognition_using_Convolutional_Neural_Network)"
      ],
      "id": "YYV8VmmO4jDg"
    },
    {
      "cell_type": "code",
      "metadata": {
        "id": "s9Wld-zyvs-I",
        "outputId": "1be0a9c8-d810-4f50-ed0a-1e241d66cd1e",
        "colab": {
          "base_uri": "https://localhost:8080/"
        }
      },
      "source": [
        "X_train.shape"
      ],
      "id": "s9Wld-zyvs-I",
      "execution_count": 6,
      "outputs": [
        {
          "output_type": "execute_result",
          "data": {
            "text/plain": [
              "(13440, 32, 32, 1)"
            ]
          },
          "metadata": {},
          "execution_count": 6
        }
      ]
    },
    {
      "cell_type": "code",
      "metadata": {
        "id": "tS3ENQ9lv0Xs",
        "outputId": "7ea11459-e32a-45fb-d6fb-d923f93343f8",
        "colab": {
          "base_uri": "https://localhost:8080/"
        }
      },
      "source": [
        "X_test.shape"
      ],
      "id": "tS3ENQ9lv0Xs",
      "execution_count": 7,
      "outputs": [
        {
          "output_type": "execute_result",
          "data": {
            "text/plain": [
              "(3360, 32, 32, 1)"
            ]
          },
          "metadata": {},
          "execution_count": 7
        }
      ]
    },
    {
      "cell_type": "code",
      "metadata": {
        "id": "Vyi_srzl4lCZ"
      },
      "source": [
        "# construct network\n",
        "model = Sequential()\n",
        "\n",
        "# Convolutional and Max Pooling - layers 1 & 2\n",
        "model.add(Conv2D(28, (5, 5), activation='relu', kernel_initializer='he_uniform', input_shape=(32, 32, 1)))\n",
        "#model.add(MaxPooling2D((14, 14))) # why don't you work\n",
        "model.add(MaxPooling2D((2, 2)))\n",
        "\n",
        "# Convolutional and Max Pooling - layers 3 & 4\n",
        "model.add(Conv2D(10, (5, 5), activation='relu', kernel_initializer='he_uniform'))\n",
        "model.add(MaxPooling2D((5, 5)))\n",
        "\n",
        "# classification - layers 5 & 6\n",
        "model.add(Flatten())\n",
        "model.add(Dense(1024, activation='relu', kernel_initializer='he_uniform'))\n",
        "model.add(Dense(28, activation='softmax'))\n",
        "\n",
        "# compile model\n",
        "opt = SGD(learning_rate=0.01, momentum=0.9)\n",
        "model.compile(optimizer=opt, loss='categorical_crossentropy', metrics=['accuracy'])"
      ],
      "id": "Vyi_srzl4lCZ",
      "execution_count": 8,
      "outputs": []
    },
    {
      "cell_type": "code",
      "metadata": {
        "id": "vnCqH3kr4qFP",
        "colab": {
          "base_uri": "https://localhost:8080/"
        },
        "outputId": "38c000d4-9c48-430e-d9d5-8e47a836b499"
      },
      "source": [
        "history = model.fit(X_train, y_train, validation_data=(X_test, y_test), batch_size=32, epochs=10)"
      ],
      "id": "vnCqH3kr4qFP",
      "execution_count": 9,
      "outputs": [
        {
          "output_type": "stream",
          "name": "stdout",
          "text": [
            "Epoch 1/10\n",
            "420/420 [==============================] - 4s 4ms/step - loss: 3.1325 - accuracy: 0.1108 - val_loss: 2.8531 - val_accuracy: 0.1607\n",
            "Epoch 2/10\n",
            "420/420 [==============================] - 1s 3ms/step - loss: 2.1983 - accuracy: 0.3265 - val_loss: 1.5526 - val_accuracy: 0.4911\n",
            "Epoch 3/10\n",
            "420/420 [==============================] - 1s 3ms/step - loss: 1.3282 - accuracy: 0.5719 - val_loss: 1.0855 - val_accuracy: 0.6381\n",
            "Epoch 4/10\n",
            "420/420 [==============================] - 1s 3ms/step - loss: 0.9901 - accuracy: 0.6818 - val_loss: 0.8249 - val_accuracy: 0.7387\n",
            "Epoch 5/10\n",
            "420/420 [==============================] - 1s 3ms/step - loss: 0.7256 - accuracy: 0.7672 - val_loss: 0.7000 - val_accuracy: 0.7824\n",
            "Epoch 6/10\n",
            "420/420 [==============================] - 2s 4ms/step - loss: 0.5648 - accuracy: 0.8157 - val_loss: 0.6202 - val_accuracy: 0.8089\n",
            "Epoch 7/10\n",
            "420/420 [==============================] - 2s 4ms/step - loss: 0.4682 - accuracy: 0.8464 - val_loss: 0.5534 - val_accuracy: 0.8259\n",
            "Epoch 8/10\n",
            "420/420 [==============================] - 1s 3ms/step - loss: 0.3977 - accuracy: 0.8702 - val_loss: 0.4664 - val_accuracy: 0.8509\n",
            "Epoch 9/10\n",
            "420/420 [==============================] - 1s 3ms/step - loss: 0.3553 - accuracy: 0.8842 - val_loss: 0.4774 - val_accuracy: 0.8402\n",
            "Epoch 10/10\n",
            "420/420 [==============================] - 1s 3ms/step - loss: 0.3037 - accuracy: 0.8999 - val_loss: 0.4478 - val_accuracy: 0.8670\n"
          ]
        }
      ]
    },
    {
      "cell_type": "code",
      "metadata": {
        "id": "9GRjYkTSwnCo"
      },
      "source": [
        "#model.save(drive_path + 'models/NAMEHERE.h5')"
      ],
      "id": "9GRjYkTSwnCo",
      "execution_count": 10,
      "outputs": []
    },
    {
      "cell_type": "code",
      "metadata": {
        "id": "6q6_laLn5WfM",
        "colab": {
          "base_uri": "https://localhost:8080/"
        },
        "outputId": "ba03c34f-8dd0-4b30-abad-fddec579175b"
      },
      "source": [
        "model.summary()"
      ],
      "id": "6q6_laLn5WfM",
      "execution_count": 11,
      "outputs": [
        {
          "output_type": "stream",
          "name": "stdout",
          "text": [
            "Model: \"sequential\"\n",
            "_________________________________________________________________\n",
            "Layer (type)                 Output Shape              Param #   \n",
            "=================================================================\n",
            "conv2d (Conv2D)              (None, 28, 28, 28)        728       \n",
            "_________________________________________________________________\n",
            "max_pooling2d (MaxPooling2D) (None, 14, 14, 28)        0         \n",
            "_________________________________________________________________\n",
            "conv2d_1 (Conv2D)            (None, 10, 10, 10)        7010      \n",
            "_________________________________________________________________\n",
            "max_pooling2d_1 (MaxPooling2 (None, 2, 2, 10)          0         \n",
            "_________________________________________________________________\n",
            "flatten (Flatten)            (None, 40)                0         \n",
            "_________________________________________________________________\n",
            "dense (Dense)                (None, 1024)              41984     \n",
            "_________________________________________________________________\n",
            "dense_1 (Dense)              (None, 28)                28700     \n",
            "=================================================================\n",
            "Total params: 78,422\n",
            "Trainable params: 78,422\n",
            "Non-trainable params: 0\n",
            "_________________________________________________________________\n"
          ]
        }
      ]
    },
    {
      "cell_type": "code",
      "metadata": {
        "id": "6Q50uVzY5X5t"
      },
      "source": [
        "def plot_training(model_history=history):\n",
        "    plt.figure(figsize=(8,10))\n",
        "\n",
        "    plt.subplot(2,1,1)\n",
        "    plt.title('Model Loss', fontsize=16)\n",
        "    plt.xlabel('Number of Epochs', fontsize=12)\n",
        "    plt.plot(model_history.history['loss'], label='Train Loss')\n",
        "    plt.plot(model_history.history['val_loss'], label='Val Loss')\n",
        "    plt.legend()\n",
        "\n",
        "    plt.subplot(2,1,2)\n",
        "    plt.title('Model Accuracy', fontsize=16)\n",
        "    plt.xlabel('Number of Epochs', fontsize=12)\n",
        "    plt.plot(model_history.history['accuracy'], label='Train Accuracy')\n",
        "    plt.plot(model_history.history['val_accuracy'], label='Val Accuracy')\n",
        "    plt.legend()\n",
        "\n",
        "    plt.subplots_adjust(hspace=0.5) \n",
        "    plt.show()\n",
        "\n",
        "    return"
      ],
      "id": "6Q50uVzY5X5t",
      "execution_count": 12,
      "outputs": []
    },
    {
      "cell_type": "code",
      "metadata": {
        "id": "HHsoXKpp3DV4",
        "colab": {
          "base_uri": "https://localhost:8080/",
          "height": 626
        },
        "outputId": "b729194c-1ef9-4e52-8b9a-323c3463d69c"
      },
      "source": [
        "plot_training()"
      ],
      "id": "HHsoXKpp3DV4",
      "execution_count": 13,
      "outputs": [
        {
          "output_type": "display_data",
          "data": {
            "image/png": "[encoded data removed]",
            "text/plain": [
              "<Figure size 576x720 with 2 Axes>"
            ]
          },
          "metadata": {
            "needs_background": "light"
          }
        }
      ]
    },
    {
      "cell_type": "code",
      "metadata": {
        "id": "hUDAvAIGQkw4",
        "colab": {
          "base_uri": "https://localhost:8080/"
        },
        "outputId": "cad42434-894d-473e-d094-6bd47850f03e"
      },
      "source": [
        "model.evaluate(X_test, y_test)"
      ],
      "id": "hUDAvAIGQkw4",
      "execution_count": 14,
      "outputs": [
        {
          "output_type": "stream",
          "name": "stdout",
          "text": [
            "105/105 [==============================] - 0s 2ms/step - loss: 0.4478 - accuracy: 0.8670\n"
          ]
        },
        {
          "output_type": "execute_result",
          "data": {
            "text/plain": [
              "[0.44780465960502625, 0.8669642806053162]"
            ]
          },
          "metadata": {},
          "execution_count": 14
        }
      ]
    },
    {
      "cell_type": "markdown",
      "metadata": {
        "id": "El1yOMkYvvI6"
      },
      "source": [
        "## Model Performance\n",
        "Here, we can establish that our baseline model has a loss score of 0.6699 and 81.99% accuracy (this number varies each time the code is ran)."
      ],
      "id": "El1yOMkYvvI6"
    },
    {
      "cell_type": "code",
      "metadata": {
        "id": "p2Qd5wL2n7xT"
      },
      "source": [
        ""
      ],
      "id": "p2Qd5wL2n7xT",
      "execution_count": 14,
      "outputs": []
    }
  ]
}