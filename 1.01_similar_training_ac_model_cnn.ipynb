{
  "nbformat": 4,
  "nbformat_minor": 5,
  "metadata": {
    "colab": {
      "name": "scratch_2.ipynb",
      "provenance": [],
      "machine_shape": "hm"
    },
    "kernelspec": {
      "display_name": "Python 3",
      "language": "python",
      "name": "python3"
    },
    "language_info": {
      "codemirror_mode": {
        "name": "ipython",
        "version": 3
      },
      "file_extension": ".py",
      "mimetype": "text/x-python",
      "name": "python",
      "nbconvert_exporter": "python",
      "pygments_lexer": "ipython3",
      "version": "3.8.10"
    },
    "accelerator": "TPU"
  },
  "cells": [
    {
      "cell_type": "code",
      "metadata": {
        "colab": {
          "base_uri": "https://localhost:8080/"
        },
        "id": "KDYOCXlgvg2R",
        "outputId": "b00bfd76-b511-49d4-c44e-83225c39ded4"
      },
      "source": [
        "from google.colab import drive\n",
        "drive.mount('/content/drive', force_remount=True)"
      ],
      "id": "KDYOCXlgvg2R",
      "execution_count": 1,
      "outputs": [
        {
          "output_type": "stream",
          "name": "stdout",
          "text": [
            "Mounted at /content/drive\n"
          ]
        }
      ]
    },
    {
      "cell_type": "code",
      "metadata": {
        "id": "X4EvVlChvl8r"
      },
      "source": [
        "drive_path = '/content/drive/MyDrive/general_assembly/code/capstone/arabic_characters'"
      ],
      "id": "X4EvVlChvl8r",
      "execution_count": 2,
      "outputs": []
    },
    {
      "cell_type": "code",
      "metadata": {
        "id": "I1RTWwRnwcRo"
      },
      "source": [
        "import pickle\n",
        "\n",
        "import numpy as np\n",
        "import matplotlib.pyplot as plt\n",
        "import pandas as pd\n",
        "\n",
        "from tensorflow.keras.models import Sequential, load_model\n",
        "from tensorflow.keras.layers import Conv2D, MaxPooling2D, Flatten, Dense\n",
        "from tensorflow.keras.regularizers import l2\n",
        "\n",
        "np.random.seed(42)"
      ],
      "id": "I1RTWwRnwcRo",
      "execution_count": 3,
      "outputs": []
    },
    {
      "cell_type": "code",
      "metadata": {
        "id": "nH4EfiD7wia0"
      },
      "source": [
        "with open(drive_path + '/arabcharsrgb.pkl', 'rb') as f:\n",
        "    ac_data = pickle.load(f)"
      ],
      "id": "nH4EfiD7wia0",
      "execution_count": 4,
      "outputs": []
    },
    {
      "cell_type": "code",
      "metadata": {
        "id": "QIWRdz8iwuN-"
      },
      "source": [
        "train_imgs = ac_data[0].copy()\n",
        "test_imgs = ac_data[1].copy()\n",
        "train_labels = ac_data[2].copy()\n",
        "test_labels = ac_data[3].copy()\n",
        "X_train = ac_data[4].copy()\n",
        "X_test = ac_data[5].copy()\n",
        "y_train = ac_data[6].copy()\n",
        "y_test = ac_data[7].copy()\n",
        "class_dict = ac_data[8].copy()"
      ],
      "id": "QIWRdz8iwuN-",
      "execution_count": 5,
      "outputs": []
    },
    {
      "cell_type": "markdown",
      "metadata": {
        "id": "YYV8VmmO4jDg"
      },
      "source": [
        "## CNN Model #1\n",
        "This is the model proposed in the paper outlining the data set by the people who collected the data [(source)](https://www.researchgate.net/publication/313891953_Arabic_Handwritten_Characters_Recognition_using_Convolutional_Neural_Network). The grid searching method used was originally published [here](https://machinelearningmastery.com/how-to-reduce-overfitting-in-deep-learning-with-weight-regularization/)."
      ],
      "id": "YYV8VmmO4jDg"
    },
    {
      "cell_type": "code",
      "metadata": {
        "id": "Vyi_srzl4lCZ"
      },
      "source": [
        "# l2 value of 1e-8\n",
        "# construct network\n",
        "model = Sequential()\n",
        "\n",
        "# Convolutional and Max Pooling - layers 1 & 2\n",
        "model.add(Conv2D(80, (5, 5), activation='relu', kernel_regularizer=l2(1e-8), input_shape=(32, 32, 3)))\n",
        "model.add(MaxPooling2D((2, 2)))\n",
        "\n",
        "# Convolutional and Max Pooling - layers 3 & 4\n",
        "model.add(Conv2D(64, (5, 5), activation='relu', kernel_regularizer=l2(1e-8)))\n",
        "model.add(MaxPooling2D((2, 2)))\n",
        "\n",
        "# classification - layers 5 & 6\n",
        "model.add(Flatten())\n",
        "model.add(Dense(1024, activation='relu', kernel_regularizer=l2(1e-8)))\n",
        "model.add(Dense(28, activation='softmax'))\n",
        "\n",
        "# compile model\n",
        "model.compile(optimizer='adam', loss='categorical_crossentropy', metrics=['accuracy'])"
      ],
      "id": "Vyi_srzl4lCZ",
      "execution_count": 6,
      "outputs": []
    },
    {
      "cell_type": "code",
      "metadata": {
        "id": "8CgYjo8xUpVM",
        "outputId": "705bc453-d1dd-465e-cb98-02ad7f203f4e",
        "colab": {
          "base_uri": "https://localhost:8080/"
        }
      },
      "source": [
        "history = model.fit(X_train, y_train, validation_data=(X_test, y_test), batch_size=256, epochs=30)"
      ],
      "id": "8CgYjo8xUpVM",
      "execution_count": 7,
      "outputs": [
        {
          "output_type": "stream",
          "name": "stdout",
          "text": [
            "Epoch 1/30\n",
            "53/53 [==============================] - 5s 93ms/step - loss: 1.6927 - accuracy: 0.4843 - val_loss: 0.8228 - val_accuracy: 0.7372\n",
            "Epoch 2/30\n",
            "53/53 [==============================] - 5s 89ms/step - loss: 0.6144 - accuracy: 0.7986 - val_loss: 0.5613 - val_accuracy: 0.8220\n",
            "Epoch 3/30\n",
            "53/53 [==============================] - 5s 93ms/step - loss: 0.3632 - accuracy: 0.8824 - val_loss: 0.5546 - val_accuracy: 0.8241\n",
            "Epoch 4/30\n",
            "53/53 [==============================] - 5s 91ms/step - loss: 0.2675 - accuracy: 0.9071 - val_loss: 0.3705 - val_accuracy: 0.8783\n",
            "Epoch 5/30\n",
            "53/53 [==============================] - 5s 93ms/step - loss: 0.1796 - accuracy: 0.9398 - val_loss: 0.3379 - val_accuracy: 0.8979\n",
            "Epoch 6/30\n",
            "53/53 [==============================] - 5s 92ms/step - loss: 0.1313 - accuracy: 0.9566 - val_loss: 0.3205 - val_accuracy: 0.9012\n",
            "Epoch 7/30\n",
            "53/53 [==============================] - 5s 91ms/step - loss: 0.0846 - accuracy: 0.9732 - val_loss: 0.3282 - val_accuracy: 0.9077\n",
            "Epoch 8/30\n",
            "53/53 [==============================] - 5s 89ms/step - loss: 0.0644 - accuracy: 0.9798 - val_loss: 0.3095 - val_accuracy: 0.9146\n",
            "Epoch 9/30\n",
            "53/53 [==============================] - 5s 88ms/step - loss: 0.0513 - accuracy: 0.9833 - val_loss: 0.4154 - val_accuracy: 0.9015\n",
            "Epoch 10/30\n",
            "53/53 [==============================] - 5s 86ms/step - loss: 0.0472 - accuracy: 0.9854 - val_loss: 0.3385 - val_accuracy: 0.9143\n",
            "Epoch 11/30\n",
            "53/53 [==============================] - 5s 87ms/step - loss: 0.0394 - accuracy: 0.9871 - val_loss: 0.3466 - val_accuracy: 0.9149\n",
            "Epoch 12/30\n",
            "53/53 [==============================] - 5s 87ms/step - loss: 0.0423 - accuracy: 0.9866 - val_loss: 0.3987 - val_accuracy: 0.9048\n",
            "Epoch 13/30\n",
            "53/53 [==============================] - 5s 90ms/step - loss: 0.0361 - accuracy: 0.9890 - val_loss: 0.3752 - val_accuracy: 0.9095\n",
            "Epoch 14/30\n",
            "53/53 [==============================] - 5s 86ms/step - loss: 0.0296 - accuracy: 0.9913 - val_loss: 0.3691 - val_accuracy: 0.9176\n",
            "Epoch 15/30\n",
            "53/53 [==============================] - 5s 89ms/step - loss: 0.0271 - accuracy: 0.9923 - val_loss: 0.3678 - val_accuracy: 0.9146\n",
            "Epoch 16/30\n",
            "53/53 [==============================] - 5s 90ms/step - loss: 0.0081 - accuracy: 0.9983 - val_loss: 0.3439 - val_accuracy: 0.9265\n",
            "Epoch 17/30\n",
            "53/53 [==============================] - 5s 91ms/step - loss: 0.0046 - accuracy: 0.9991 - val_loss: 0.3457 - val_accuracy: 0.9310\n",
            "Epoch 18/30\n",
            "53/53 [==============================] - 5s 90ms/step - loss: 0.0059 - accuracy: 0.9984 - val_loss: 0.3639 - val_accuracy: 0.9292\n",
            "Epoch 19/30\n",
            "53/53 [==============================] - 5s 88ms/step - loss: 0.0032 - accuracy: 0.9992 - val_loss: 0.3818 - val_accuracy: 0.9256\n",
            "Epoch 20/30\n",
            "53/53 [==============================] - 5s 88ms/step - loss: 0.0085 - accuracy: 0.9977 - val_loss: 0.3764 - val_accuracy: 0.9259\n",
            "Epoch 21/30\n",
            "53/53 [==============================] - 5s 88ms/step - loss: 0.0197 - accuracy: 0.9949 - val_loss: 0.3669 - val_accuracy: 0.9238\n",
            "Epoch 22/30\n",
            "53/53 [==============================] - 5s 88ms/step - loss: 0.0065 - accuracy: 0.9987 - val_loss: 0.3580 - val_accuracy: 0.9289\n",
            "Epoch 23/30\n",
            "53/53 [==============================] - 5s 89ms/step - loss: 0.0087 - accuracy: 0.9978 - val_loss: 0.3894 - val_accuracy: 0.9170\n",
            "Epoch 24/30\n",
            "53/53 [==============================] - 5s 88ms/step - loss: 0.0226 - accuracy: 0.9941 - val_loss: 0.4066 - val_accuracy: 0.9146\n",
            "Epoch 25/30\n",
            "53/53 [==============================] - 5s 89ms/step - loss: 0.0197 - accuracy: 0.9950 - val_loss: 0.4078 - val_accuracy: 0.9167\n",
            "Epoch 26/30\n",
            "53/53 [==============================] - 5s 91ms/step - loss: 0.0115 - accuracy: 0.9967 - val_loss: 0.3808 - val_accuracy: 0.9211\n",
            "Epoch 27/30\n",
            "53/53 [==============================] - 5s 89ms/step - loss: 0.0077 - accuracy: 0.9980 - val_loss: 0.4094 - val_accuracy: 0.9205\n",
            "Epoch 28/30\n",
            "53/53 [==============================] - 5s 86ms/step - loss: 0.0376 - accuracy: 0.9891 - val_loss: 0.5367 - val_accuracy: 0.8857\n",
            "Epoch 29/30\n",
            "53/53 [==============================] - 5s 85ms/step - loss: 0.0466 - accuracy: 0.9856 - val_loss: 0.4377 - val_accuracy: 0.9077\n",
            "Epoch 30/30\n",
            "53/53 [==============================] - 5s 89ms/step - loss: 0.0260 - accuracy: 0.9911 - val_loss: 0.4356 - val_accuracy: 0.9128\n"
          ]
        }
      ]
    },
    {
      "cell_type": "code",
      "metadata": {
        "id": "xmeWRrTLUpEM"
      },
      "source": [
        "def plot_training(model_history=history):\n",
        "    plt.figure(figsize=(8,10))\n",
        "\n",
        "    plt.subplot(2,1,1)\n",
        "    plt.title('Model Loss', fontsize=16)\n",
        "    plt.xlabel('Number of Epochs', fontsize=12)\n",
        "    plt.plot(model_history.history['loss'], label='Train Loss')\n",
        "    plt.plot(model_history.history['val_loss'], label='Val Loss')\n",
        "    plt.legend()\n",
        "\n",
        "    plt.subplot(2,1,2)\n",
        "    plt.title('Model Accuracy', fontsize=16)\n",
        "    plt.xlabel('Number of Epochs', fontsize=12)\n",
        "    plt.plot(model_history.history['accuracy'], label='Train Accuracy')\n",
        "    plt.plot(model_history.history['val_accuracy'], label='Val Accuracy')\n",
        "    plt.legend()\n",
        "\n",
        "    plt.subplots_adjust(hspace=0.5) \n",
        "    plt.show()\n",
        "\n",
        "    return"
      ],
      "id": "xmeWRrTLUpEM",
      "execution_count": 8,
      "outputs": []
    },
    {
      "cell_type": "code",
      "metadata": {
        "id": "YqSt4YoaUngl",
        "outputId": "9e9bbfa7-76ef-4694-d8b7-5ea7f9f76c71",
        "colab": {
          "base_uri": "https://localhost:8080/",
          "height": 626
        }
      },
      "source": [
        "plot_training()"
      ],
      "id": "YqSt4YoaUngl",
      "execution_count": 9,
      "outputs": [
        {
          "output_type": "display_data",
          "data": {
            "image/png": "[encoded data removed]",
            "text/plain": [
              "<Figure size 576x720 with 2 Axes>"
            ]
          },
          "metadata": {
            "needs_background": "light"
          }
        }
      ]
    },
    {
      "cell_type": "code",
      "metadata": {
        "id": "2yzTsfGzVPwf",
        "outputId": "0dee3972-5d26-4812-be1b-0989accc0468",
        "colab": {
          "base_uri": "https://localhost:8080/"
        }
      },
      "source": [
        "model.evaluate(X_test, y_test)"
      ],
      "id": "2yzTsfGzVPwf",
      "execution_count": 10,
      "outputs": [
        {
          "output_type": "stream",
          "name": "stdout",
          "text": [
            "105/105 [==============================] - 1s 7ms/step - loss: 0.4356 - accuracy: 0.9128\n"
          ]
        },
        {
          "output_type": "execute_result",
          "data": {
            "text/plain": [
              "[0.43561384081840515, 0.9127976298332214]"
            ]
          },
          "metadata": {},
          "execution_count": 10
        }
      ]
    },
    {
      "cell_type": "markdown",
      "metadata": {
        "id": "El1yOMkYvvI6"
      },
      "source": [
        "## Model Performance\n",
        "Based on the information above, we're going to choose a model with $l_2 =$ `1e-8` because it had the lowest test score (0.3901, a massive improvement over the baseline's 0.8514) and close to the highest accuracy score (92.44%). Although, it seems that any of the values less than or equal to `1e-3` would work comparably well due to the variance produced within this stochastically generated method."
      ],
      "id": "El1yOMkYvvI6"
    }
  ]
}