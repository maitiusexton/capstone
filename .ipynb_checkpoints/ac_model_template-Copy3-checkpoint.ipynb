{
 "cells": [
  {
   "cell_type": "code",
   "execution_count": 1,
   "id": "KDYOCXlgvg2R",
   "metadata": {
    "colab": {
     "base_uri": "https://localhost:8080/"
    },
    "id": "KDYOCXlgvg2R",
    "outputId": "adbed8c8-ca36-4013-db74-6da405cabf8b"
   },
   "outputs": [
    {
     "name": "stdout",
     "output_type": "stream",
     "text": [
      "Drive already mounted at /content/drive; to attempt to forcibly remount, call drive.mount(\"/content/drive\", force_remount=True).\n"
     ]
    }
   ],
   "source": [
    "from google.colab import drive\n",
    "drive.mount('/content/drive')"
   ]
  },
  {
   "cell_type": "code",
   "execution_count": 2,
   "id": "X4EvVlChvl8r",
   "metadata": {
    "id": "X4EvVlChvl8r"
   },
   "outputs": [],
   "source": [
    "drive_path = '/content/drive/MyDrive/general_assembly/code/capstone/arabic_characters/'"
   ]
  },
  {
   "cell_type": "code",
   "execution_count": 3,
   "id": "I1RTWwRnwcRo",
   "metadata": {
    "id": "I1RTWwRnwcRo"
   },
   "outputs": [],
   "source": [
    "import pickle\n",
    "\n",
    "import numpy as np\n",
    "import matplotlib.pyplot as plt\n",
    "\n",
    "from tensorflow.keras.layers import Dense, Flatten, Conv2D, MaxPooling2D\n",
    "from tensorflow.keras.models import Sequential\n",
    "from tensorflow.keras.optimizers import SGD"
   ]
  },
  {
   "cell_type": "code",
   "execution_count": 4,
   "id": "nH4EfiD7wia0",
   "metadata": {
    "id": "nH4EfiD7wia0"
   },
   "outputs": [],
   "source": [
    "with open(drive_path + 'arabchars.pkl', 'rb') as f:\n",
    "    ac_data = pickle.load(f)"
   ]
  },
  {
   "cell_type": "code",
   "execution_count": 5,
   "id": "QIWRdz8iwuN-",
   "metadata": {
    "id": "QIWRdz8iwuN-"
   },
   "outputs": [],
   "source": [
    "train_imgs = ac_data[0].copy()\n",
    "test_imgs = ac_data[1].copy()\n",
    "train_labels = ac_data[2].copy()\n",
    "test_labels = ac_data[3].copy()\n",
    "X_train = ac_data[4].copy()\n",
    "X_test = ac_data[5].copy()\n",
    "y_train = ac_data[6].copy()\n",
    "y_test = ac_data[7].copy()\n",
    "class_dict = ac_data[8].copy()"
   ]
  }
 ],
 "metadata": {
  "colab": {
   "name": "scratch_2.ipynb",
   "provenance": []
  },
  "kernelspec": {
   "display_name": "Python 3",
   "language": "python",
   "name": "python3"
  },
  "language_info": {
   "codemirror_mode": {
    "name": "ipython",
    "version": 3
   },
   "file_extension": ".py",
   "mimetype": "text/x-python",
   "name": "python",
   "nbconvert_exporter": "python",
   "pygments_lexer": "ipython3",
   "version": "3.8.10"
  }
 },
 "nbformat": 4,
 "nbformat_minor": 5
}
