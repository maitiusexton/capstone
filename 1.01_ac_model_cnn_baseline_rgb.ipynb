{
  "nbformat": 4,
  "nbformat_minor": 5,
  "metadata": {
    "colab": {
      "name": "scratch_2.ipynb",
      "provenance": [],
      "include_colab_link": true
    },
    "kernelspec": {
      "display_name": "Python 3",
      "language": "python",
      "name": "python3"
    },
    "language_info": {
      "codemirror_mode": {
        "name": "ipython",
        "version": 3
      },
      "file_extension": ".py",
      "mimetype": "text/x-python",
      "name": "python",
      "nbconvert_exporter": "python",
      "pygments_lexer": "ipython3",
      "version": "3.8.10"
    }
  },
  "cells": [
    {
      "cell_type": "markdown",
      "metadata": {
        "id": "view-in-github",
        "colab_type": "text"
      },
      "source": [
        "<a href=\"https://colab.research.google.com/github/mdsexton/capstone/blob/main/1.01_ac_model_cnn_baseline_rgb.ipynb\" target=\"_parent\"><img src=\"https://colab.research.google.com/assets/colab-badge.svg\" alt=\"Open In Colab\"/></a>"
      ]
    },
    {
      "cell_type": "code",
      "metadata": {
        "colab": {
          "base_uri": "https://localhost:8080/"
        },
        "id": "KDYOCXlgvg2R",
        "outputId": "ee24a82a-1c32-45ab-dfe7-dc979e87e199"
      },
      "source": [
        "from google.colab import drive\n",
        "drive.mount('/content/drive', force_remount=True)"
      ],
      "id": "KDYOCXlgvg2R",
      "execution_count": 1,
      "outputs": [
        {
          "output_type": "stream",
          "name": "stdout",
          "text": [
            "Mounted at /content/drive\n"
          ]
        }
      ]
    },
    {
      "cell_type": "code",
      "metadata": {
        "id": "X4EvVlChvl8r"
      },
      "source": [
        "drive_path = '/content/drive/MyDrive/general_assembly/code/capstone/arabic_characters/'"
      ],
      "id": "X4EvVlChvl8r",
      "execution_count": 2,
      "outputs": []
    },
    {
      "cell_type": "code",
      "metadata": {
        "id": "I1RTWwRnwcRo"
      },
      "source": [
        "import pickle\n",
        "\n",
        "import numpy as np\n",
        "import matplotlib.pyplot as plt\n",
        "\n",
        "from tensorflow.keras.models import Sequential\n",
        "from tensorflow.keras.layers import Conv2D, MaxPooling2D, Flatten, Dense\n",
        "from tensorflow.keras.optimizers import SGD\n",
        "\n",
        "np.random.seed(42)"
      ],
      "id": "I1RTWwRnwcRo",
      "execution_count": 3,
      "outputs": []
    },
    {
      "cell_type": "code",
      "metadata": {
        "id": "nH4EfiD7wia0"
      },
      "source": [
        "with open(drive_path + 'arabcharsrgb.pkl', 'rb') as f:\n",
        "    ac_data = pickle.load(f)"
      ],
      "id": "nH4EfiD7wia0",
      "execution_count": 4,
      "outputs": []
    },
    {
      "cell_type": "code",
      "metadata": {
        "id": "QIWRdz8iwuN-"
      },
      "source": [
        "train_imgs = ac_data[0].copy()\n",
        "test_imgs = ac_data[1].copy()\n",
        "train_labels = ac_data[2].copy()\n",
        "test_labels = ac_data[3].copy()\n",
        "X_train = ac_data[4].copy()\n",
        "X_test = ac_data[5].copy()\n",
        "y_train = ac_data[6].copy()\n",
        "y_test = ac_data[7].copy()\n",
        "class_dict = ac_data[8].copy()"
      ],
      "id": "QIWRdz8iwuN-",
      "execution_count": 5,
      "outputs": []
    },
    {
      "cell_type": "markdown",
      "metadata": {
        "id": "YYV8VmmO4jDg"
      },
      "source": [
        "## Baseline CNN Model"
      ],
      "id": "YYV8VmmO4jDg"
    },
    {
      "cell_type": "code",
      "metadata": {
        "id": "Vyi_srzl4lCZ"
      },
      "source": [
        "# construct network\n",
        "model = Sequential()\n",
        "\n",
        "# feature learning - 1st & 2nd layer\n",
        "model.add(Conv2D(32, (3, 3), activation='relu', kernel_initializer='he_uniform', input_shape=(32, 32, 3)))\n",
        "model.add(MaxPooling2D((2, 2)))\n",
        "\n",
        "# classification\n",
        "model.add(Flatten())\n",
        "model.add(Dense(1024, activation='relu', kernel_initializer='he_uniform'))\n",
        "model.add(Dense(28, activation='softmax'))\n",
        "\n",
        "# compile model\n",
        "model.compile(optimizer='adam', loss='categorical_crossentropy', metrics=['accuracy'])"
      ],
      "id": "Vyi_srzl4lCZ",
      "execution_count": 6,
      "outputs": []
    },
    {
      "cell_type": "code",
      "metadata": {
        "id": "vnCqH3kr4qFP",
        "colab": {
          "base_uri": "https://localhost:8080/"
        },
        "outputId": "5fc6249c-8ee4-41f7-c515-fbf784300fb7"
      },
      "source": [
        "history = model.fit(X_train, y_train, validation_data=(X_test, y_test), batch_size=32, epochs=10)"
      ],
      "id": "vnCqH3kr4qFP",
      "execution_count": 7,
      "outputs": [
        {
          "output_type": "stream",
          "name": "stdout",
          "text": [
            "Epoch 1/10\n",
            "420/420 [==============================] - 51s 119ms/step - loss: 1.3919 - accuracy: 0.5809 - val_loss: 0.7945 - val_accuracy: 0.7461\n",
            "Epoch 2/10\n",
            "420/420 [==============================] - 50s 119ms/step - loss: 0.4553 - accuracy: 0.8469 - val_loss: 0.6219 - val_accuracy: 0.8012\n",
            "Epoch 3/10\n",
            "420/420 [==============================] - 50s 119ms/step - loss: 0.1878 - accuracy: 0.9387 - val_loss: 0.6240 - val_accuracy: 0.8170\n",
            "Epoch 4/10\n",
            "420/420 [==============================] - 50s 119ms/step - loss: 0.0982 - accuracy: 0.9680 - val_loss: 0.6228 - val_accuracy: 0.8238\n",
            "Epoch 5/10\n",
            "420/420 [==============================] - 50s 119ms/step - loss: 0.0612 - accuracy: 0.9820 - val_loss: 0.7039 - val_accuracy: 0.8271\n",
            "Epoch 6/10\n",
            "420/420 [==============================] - 49s 118ms/step - loss: 0.0482 - accuracy: 0.9855 - val_loss: 0.6960 - val_accuracy: 0.8426\n",
            "Epoch 7/10\n",
            "420/420 [==============================] - 50s 120ms/step - loss: 0.0336 - accuracy: 0.9911 - val_loss: 0.7297 - val_accuracy: 0.8327\n",
            "Epoch 8/10\n",
            "420/420 [==============================] - 50s 119ms/step - loss: 0.0310 - accuracy: 0.9906 - val_loss: 0.9109 - val_accuracy: 0.8092\n",
            "Epoch 9/10\n",
            "420/420 [==============================] - 50s 119ms/step - loss: 0.0778 - accuracy: 0.9751 - val_loss: 0.8262 - val_accuracy: 0.8241\n",
            "Epoch 10/10\n",
            "420/420 [==============================] - 50s 119ms/step - loss: 0.0386 - accuracy: 0.9882 - val_loss: 0.8839 - val_accuracy: 0.8143\n"
          ]
        }
      ]
    },
    {
      "cell_type": "code",
      "metadata": {
        "id": "9GRjYkTSwnCo"
      },
      "source": [
        "model.save(drive_path + 'models/cnn_baseline.h5')"
      ],
      "id": "9GRjYkTSwnCo",
      "execution_count": 8,
      "outputs": []
    },
    {
      "cell_type": "code",
      "metadata": {
        "id": "6q6_laLn5WfM",
        "colab": {
          "base_uri": "https://localhost:8080/"
        },
        "outputId": "64dbc712-39fc-4d1f-bec0-a56327594e65"
      },
      "source": [
        "model.summary()"
      ],
      "id": "6q6_laLn5WfM",
      "execution_count": 9,
      "outputs": [
        {
          "output_type": "stream",
          "name": "stdout",
          "text": [
            "Model: \"sequential\"\n",
            "_________________________________________________________________\n",
            "Layer (type)                 Output Shape              Param #   \n",
            "=================================================================\n",
            "conv2d (Conv2D)              (None, 30, 30, 32)        896       \n",
            "_________________________________________________________________\n",
            "max_pooling2d (MaxPooling2D) (None, 15, 15, 32)        0         \n",
            "_________________________________________________________________\n",
            "flatten (Flatten)            (None, 7200)              0         \n",
            "_________________________________________________________________\n",
            "dense (Dense)                (None, 1024)              7373824   \n",
            "_________________________________________________________________\n",
            "dense_1 (Dense)              (None, 28)                28700     \n",
            "=================================================================\n",
            "Total params: 7,403,420\n",
            "Trainable params: 7,403,420\n",
            "Non-trainable params: 0\n",
            "_________________________________________________________________\n"
          ]
        }
      ]
    },
    {
      "cell_type": "code",
      "metadata": {
        "id": "6Q50uVzY5X5t"
      },
      "source": [
        "def plot_training(model_history=history):\n",
        "    plt.figure(figsize=(8,10))\n",
        "\n",
        "    plt.subplot(2,1,1)\n",
        "    plt.title('Model Loss', fontsize=16)\n",
        "    plt.xlabel('Number of Epochs', fontsize=12)\n",
        "    plt.plot(model_history.history['loss'], label='Train Loss')\n",
        "    plt.plot(model_history.history['val_loss'], label='Val Loss')\n",
        "    plt.legend()\n",
        "\n",
        "    plt.subplot(2,1,2)\n",
        "    plt.title('Model Accuracy', fontsize=16)\n",
        "    plt.xlabel('Number of Epochs', fontsize=12)\n",
        "    plt.plot(model_history.history['accuracy'], label='Train Accuracy')\n",
        "    plt.plot(model_history.history['val_accuracy'], label='Val Accuracy')\n",
        "    plt.legend()\n",
        "\n",
        "    plt.subplots_adjust(hspace=0.5) \n",
        "    plt.show()\n",
        "\n",
        "    return"
      ],
      "id": "6Q50uVzY5X5t",
      "execution_count": 10,
      "outputs": []
    },
    {
      "cell_type": "code",
      "metadata": {
        "id": "HHsoXKpp3DV4",
        "colab": {
          "base_uri": "https://localhost:8080/",
          "height": 626
        },
        "outputId": "1cd89aab-7bc6-46c9-a3f0-305addcc1d3d"
      },
      "source": [
        "plot_training()"
      ],
      "id": "HHsoXKpp3DV4",
      "execution_count": 11,
      "outputs": [
        {
          "output_type": "display_data",
          "data": {
            "image/png": "[encoded data removed]",
            "text/plain": [
              "<Figure size 576x720 with 2 Axes>"
            ]
          },
          "metadata": {
            "needs_background": "light"
          }
        }
      ]
    },
    {
      "cell_type": "code",
      "metadata": {
        "id": "hUDAvAIGQkw4",
        "colab": {
          "base_uri": "https://localhost:8080/"
        },
        "outputId": "ec165df7-ef7e-4a96-a3c6-bde38ebcd348"
      },
      "source": [
        "model.evaluate(X_test, y_test)"
      ],
      "id": "hUDAvAIGQkw4",
      "execution_count": 12,
      "outputs": [
        {
          "output_type": "stream",
          "name": "stdout",
          "text": [
            "105/105 [==============================] - 2s 22ms/step - loss: 0.8839 - accuracy: 0.8143\n"
          ]
        },
        {
          "output_type": "execute_result",
          "data": {
            "text/plain": [
              "[0.8839487433433533, 0.8142856955528259]"
            ]
          },
          "metadata": {},
          "execution_count": 12
        }
      ]
    },
    {
      "cell_type": "markdown",
      "metadata": {
        "id": "El1yOMkYvvI6"
      },
      "source": [
        "Here, we can establish that our baseline model has a loss score of 0.8839 and 81.43% accuracy (this number varies each time the code is ran)."
      ],
      "id": "El1yOMkYvvI6"
    }
  ]
}