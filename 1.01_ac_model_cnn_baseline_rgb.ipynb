{
  "nbformat": 4,
  "nbformat_minor": 5,
  "metadata": {
    "colab": {
      "name": "scratch_2.ipynb",
      "provenance": []
    },
    "kernelspec": {
      "display_name": "Python 3",
      "language": "python",
      "name": "python3"
    },
    "language_info": {
      "codemirror_mode": {
        "name": "ipython",
        "version": 3
      },
      "file_extension": ".py",
      "mimetype": "text/x-python",
      "name": "python",
      "nbconvert_exporter": "python",
      "pygments_lexer": "ipython3",
      "version": "3.8.10"
    }
  },
  "cells": [
    {
      "cell_type": "code",
      "metadata": {
        "colab": {
          "base_uri": "https://localhost:8080/"
        },
        "id": "KDYOCXlgvg2R",
        "outputId": "9b1fab4c-72bb-49d5-c1bf-8e70c77c4b66"
      },
      "source": [
        "from google.colab import drive\n",
        "drive.mount('/content/drive', force_remount=True)"
      ],
      "id": "KDYOCXlgvg2R",
      "execution_count": 1,
      "outputs": [
        {
          "output_type": "stream",
          "name": "stdout",
          "text": [
            "Mounted at /content/drive\n"
          ]
        }
      ]
    },
    {
      "cell_type": "code",
      "metadata": {
        "id": "X4EvVlChvl8r"
      },
      "source": [
        "drive_path = '/content/drive/MyDrive/general_assembly/code/capstone/arabic_characters/'"
      ],
      "id": "X4EvVlChvl8r",
      "execution_count": 2,
      "outputs": []
    },
    {
      "cell_type": "code",
      "metadata": {
        "id": "I1RTWwRnwcRo"
      },
      "source": [
        "import pickle\n",
        "\n",
        "import numpy as np\n",
        "import matplotlib.pyplot as plt\n",
        "\n",
        "from tensorflow.keras.models import Sequential\n",
        "from tensorflow.keras.layers import Conv2D, MaxPooling2D, Flatten, Dense\n",
        "from tensorflow.keras.optimizers import SGD\n",
        "\n",
        "np.random.seed(42)"
      ],
      "id": "I1RTWwRnwcRo",
      "execution_count": 3,
      "outputs": []
    },
    {
      "cell_type": "code",
      "metadata": {
        "id": "nH4EfiD7wia0"
      },
      "source": [
        "with open(drive_path + 'arabcharsrgb.pkl', 'rb') as f:\n",
        "    ac_data = pickle.load(f)"
      ],
      "id": "nH4EfiD7wia0",
      "execution_count": 4,
      "outputs": []
    },
    {
      "cell_type": "code",
      "metadata": {
        "id": "QIWRdz8iwuN-"
      },
      "source": [
        "train_imgs = ac_data[0].copy()\n",
        "test_imgs = ac_data[1].copy()\n",
        "train_labels = ac_data[2].copy()\n",
        "test_labels = ac_data[3].copy()\n",
        "X_train = ac_data[4].copy()\n",
        "X_test = ac_data[5].copy()\n",
        "y_train = ac_data[6].copy()\n",
        "y_test = ac_data[7].copy()\n",
        "class_dict = ac_data[8].copy()"
      ],
      "id": "QIWRdz8iwuN-",
      "execution_count": 5,
      "outputs": []
    },
    {
      "cell_type": "markdown",
      "metadata": {
        "id": "YYV8VmmO4jDg"
      },
      "source": [
        "## Baseline CNN Model"
      ],
      "id": "YYV8VmmO4jDg"
    },
    {
      "cell_type": "code",
      "metadata": {
        "id": "Vyi_srzl4lCZ"
      },
      "source": [
        "# construct network\n",
        "model = Sequential()\n",
        "\n",
        "# feature learning - 1st & 2nd layer\n",
        "model.add(Conv2D(32, (3, 3), activation='relu', input_shape=(32, 32, 3)))\n",
        "model.add(MaxPooling2D((2, 2)))\n",
        "\n",
        "# classification\n",
        "model.add(Flatten())\n",
        "model.add(Dense(1024, activation='relu'))\n",
        "model.add(Dense(28, activation='softmax'))\n",
        "\n",
        "# compile model\n",
        "model.compile(optimizer='adam', loss='categorical_crossentropy', metrics=['accuracy'])"
      ],
      "id": "Vyi_srzl4lCZ",
      "execution_count": 6,
      "outputs": []
    },
    {
      "cell_type": "code",
      "metadata": {
        "id": "vnCqH3kr4qFP",
        "colab": {
          "base_uri": "https://localhost:8080/"
        },
        "outputId": "a1cc075a-71a9-48fa-f971-9bc07a5a4f72"
      },
      "source": [
        "history = model.fit(X_train, y_train, validation_data=(X_test, y_test), epochs=10)"
      ],
      "id": "vnCqH3kr4qFP",
      "execution_count": 7,
      "outputs": [
        {
          "output_type": "stream",
          "name": "stdout",
          "text": [
            "Epoch 1/10\n",
            "420/420 [==============================] - 51s 120ms/step - loss: 1.3727 - accuracy: 0.5802 - val_loss: 0.7367 - val_accuracy: 0.7586\n",
            "Epoch 2/10\n",
            "420/420 [==============================] - 50s 118ms/step - loss: 0.4414 - accuracy: 0.8575 - val_loss: 0.5268 - val_accuracy: 0.8277\n",
            "Epoch 3/10\n",
            "420/420 [==============================] - 48s 115ms/step - loss: 0.1830 - accuracy: 0.9424 - val_loss: 0.5594 - val_accuracy: 0.8259\n",
            "Epoch 4/10\n",
            "420/420 [==============================] - 49s 117ms/step - loss: 0.0856 - accuracy: 0.9742 - val_loss: 0.5966 - val_accuracy: 0.8336\n",
            "Epoch 5/10\n",
            "420/420 [==============================] - 50s 118ms/step - loss: 0.0499 - accuracy: 0.9842 - val_loss: 0.6521 - val_accuracy: 0.8324\n",
            "Epoch 6/10\n",
            "420/420 [==============================] - 50s 118ms/step - loss: 0.0475 - accuracy: 0.9849 - val_loss: 0.6607 - val_accuracy: 0.8438\n",
            "Epoch 7/10\n",
            "420/420 [==============================] - 50s 118ms/step - loss: 0.0321 - accuracy: 0.9903 - val_loss: 0.6626 - val_accuracy: 0.8426\n",
            "Epoch 8/10\n",
            "420/420 [==============================] - 50s 119ms/step - loss: 0.0183 - accuracy: 0.9946 - val_loss: 0.7937 - val_accuracy: 0.8307\n",
            "Epoch 9/10\n",
            "420/420 [==============================] - 50s 118ms/step - loss: 0.0529 - accuracy: 0.9818 - val_loss: 0.8506 - val_accuracy: 0.8250\n",
            "Epoch 10/10\n",
            "420/420 [==============================] - 50s 119ms/step - loss: 0.0490 - accuracy: 0.9851 - val_loss: 0.8514 - val_accuracy: 0.8313\n"
          ]
        }
      ]
    },
    {
      "cell_type": "code",
      "metadata": {
        "id": "9GRjYkTSwnCo"
      },
      "source": [
        "model.save(drive_path + 'models/cnn_baseline.h5')"
      ],
      "id": "9GRjYkTSwnCo",
      "execution_count": 8,
      "outputs": []
    },
    {
      "cell_type": "code",
      "metadata": {
        "id": "6q6_laLn5WfM",
        "colab": {
          "base_uri": "https://localhost:8080/"
        },
        "outputId": "7461a361-2eea-414f-eefa-afedf1a76d02"
      },
      "source": [
        "model.summary()"
      ],
      "id": "6q6_laLn5WfM",
      "execution_count": 9,
      "outputs": [
        {
          "output_type": "stream",
          "name": "stdout",
          "text": [
            "Model: \"sequential\"\n",
            "_________________________________________________________________\n",
            "Layer (type)                 Output Shape              Param #   \n",
            "=================================================================\n",
            "conv2d (Conv2D)              (None, 30, 30, 32)        896       \n",
            "_________________________________________________________________\n",
            "max_pooling2d (MaxPooling2D) (None, 15, 15, 32)        0         \n",
            "_________________________________________________________________\n",
            "flatten (Flatten)            (None, 7200)              0         \n",
            "_________________________________________________________________\n",
            "dense (Dense)                (None, 1024)              7373824   \n",
            "_________________________________________________________________\n",
            "dense_1 (Dense)              (None, 28)                28700     \n",
            "=================================================================\n",
            "Total params: 7,403,420\n",
            "Trainable params: 7,403,420\n",
            "Non-trainable params: 0\n",
            "_________________________________________________________________\n"
          ]
        }
      ]
    },
    {
      "cell_type": "code",
      "metadata": {
        "id": "6Q50uVzY5X5t"
      },
      "source": [
        "def plot_training(model_history=history):\n",
        "    plt.figure(figsize=(8,10))\n",
        "\n",
        "    plt.subplot(2,1,1)\n",
        "    plt.title('Model Loss', fontsize=16)\n",
        "    plt.xlabel('Number of Epochs', fontsize=12)\n",
        "    plt.plot(model_history.history['loss'], label='Train Loss')\n",
        "    plt.plot(model_history.history['val_loss'], label='Val Loss')\n",
        "    plt.legend()\n",
        "\n",
        "    plt.subplot(2,1,2)\n",
        "    plt.title('Model Accuracy', fontsize=16)\n",
        "    plt.xlabel('Number of Epochs', fontsize=12)\n",
        "    plt.plot(model_history.history['accuracy'], label='Train Accuracy')\n",
        "    plt.plot(model_history.history['val_accuracy'], label='Val Accuracy')\n",
        "    plt.legend()\n",
        "\n",
        "    plt.subplots_adjust(hspace=0.5) \n",
        "    plt.show()\n",
        "\n",
        "    return"
      ],
      "id": "6Q50uVzY5X5t",
      "execution_count": 10,
      "outputs": []
    },
    {
      "cell_type": "code",
      "metadata": {
        "id": "HHsoXKpp3DV4",
        "colab": {
          "base_uri": "https://localhost:8080/",
          "height": 626
        },
        "outputId": "c0e83f78-8f1f-4683-94cc-241c54fd735d"
      },
      "source": [
        "plot_training()"
      ],
      "id": "HHsoXKpp3DV4",
      "execution_count": 11,
      "outputs": [
        {
          "output_type": "display_data",
          "data": {
            "image/png": "[encoded data removed]",
            "text/plain": [
              "<Figure size 576x720 with 2 Axes>"
            ]
          },
          "metadata": {
            "needs_background": "light"
          }
        }
      ]
    },
    {
      "cell_type": "code",
      "metadata": {
        "id": "hUDAvAIGQkw4",
        "colab": {
          "base_uri": "https://localhost:8080/"
        },
        "outputId": "430559b3-7d44-4617-e4e6-3b531f036822"
      },
      "source": [
        "model.evaluate(X_test, y_test)"
      ],
      "id": "hUDAvAIGQkw4",
      "execution_count": 12,
      "outputs": [
        {
          "output_type": "stream",
          "name": "stdout",
          "text": [
            "105/105 [==============================] - 2s 21ms/step - loss: 0.8514 - accuracy: 0.8313\n"
          ]
        },
        {
          "output_type": "execute_result",
          "data": {
            "text/plain": [
              "[0.8514226078987122, 0.831250011920929]"
            ]
          },
          "metadata": {},
          "execution_count": 12
        }
      ]
    },
    {
      "cell_type": "markdown",
      "metadata": {
        "id": "El1yOMkYvvI6"
      },
      "source": [
        "Here, we can establish that our baseline model has a loss score of 0.8514 and 83.13% accuracy (this number varies each time the code is ran)."
      ],
      "id": "El1yOMkYvvI6"
    }
  ]
}