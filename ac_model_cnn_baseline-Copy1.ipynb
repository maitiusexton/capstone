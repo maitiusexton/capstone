{
 "cells": [
  {
   "cell_type": "markdown",
   "id": "422c65f7",
   "metadata": {
    "colab_type": "text",
    "id": "view-in-github"
   },
   "source": [
    "<a href=\"https://colab.research.google.com/github/mdsexton/capstone/blob/main/ac_model_cnn_baseline.ipynb\" target=\"_parent\"><img src=\"https://colab.research.google.com/assets/colab-badge.svg\" alt=\"Open In Colab\"/></a>"
   ]
  },
  {
   "cell_type": "code",
   "execution_count": 1,
   "id": "KDYOCXlgvg2R",
   "metadata": {
    "colab": {
     "base_uri": "https://localhost:8080/"
    },
    "id": "KDYOCXlgvg2R",
    "outputId": "a4c4da53-991c-45a7-b82b-19742660cdc1"
   },
   "outputs": [
    {
     "name": "stdout",
     "output_type": "stream",
     "text": [
      "Drive already mounted at /content/drive; to attempt to forcibly remount, call drive.mount(\"/content/drive\", force_remount=True).\n"
     ]
    }
   ],
   "source": [
    "from google.colab import drive\n",
    "drive.mount('/content/drive')"
   ]
  },
  {
   "cell_type": "code",
   "execution_count": 2,
   "id": "X4EvVlChvl8r",
   "metadata": {
    "id": "X4EvVlChvl8r"
   },
   "outputs": [],
   "source": [
    "drive_path = '/content/drive/MyDrive/general_assembly/code/capstone/arabic_characters/'"
   ]
  },
  {
   "cell_type": "code",
   "execution_count": 3,
   "id": "I1RTWwRnwcRo",
   "metadata": {
    "id": "I1RTWwRnwcRo"
   },
   "outputs": [],
   "source": [
    "import pickle\n",
    "\n",
    "import numpy as np\n",
    "import matplotlib.pyplot as plt\n",
    "\n",
    "from tensorflow.keras.models import Sequential\n",
    "from tensorflow.keras.layers import Conv2D, MaxPooling2D, Flatten, Dense\n",
    "from tensorflow.keras.optimizers import SGD\n",
    "\n",
    "np.random.seed(42)"
   ]
  },
  {
   "cell_type": "code",
   "execution_count": 4,
   "id": "nH4EfiD7wia0",
   "metadata": {
    "id": "nH4EfiD7wia0"
   },
   "outputs": [],
   "source": [
    "with open(drive_path + 'arabchars.pkl', 'rb') as f:\n",
    "    ac_data = pickle.load(f)"
   ]
  },
  {
   "cell_type": "code",
   "execution_count": 5,
   "id": "QIWRdz8iwuN-",
   "metadata": {
    "id": "QIWRdz8iwuN-"
   },
   "outputs": [],
   "source": [
    "train_imgs = ac_data[0].copy()\n",
    "test_imgs = ac_data[1].copy()\n",
    "train_labels = ac_data[2].copy()\n",
    "test_labels = ac_data[3].copy()\n",
    "X_train = ac_data[4].copy()\n",
    "X_test = ac_data[5].copy()\n",
    "y_train = ac_data[6].copy()\n",
    "y_test = ac_data[7].copy()\n",
    "class_dict = ac_data[8].copy()"
   ]
  },
  {
   "cell_type": "markdown",
   "id": "YYV8VmmO4jDg",
   "metadata": {
    "id": "YYV8VmmO4jDg"
   },
   "source": [
    "## Baseline CNN Model"
   ]
  },
  {
   "cell_type": "code",
   "execution_count": 6,
   "id": "Vyi_srzl4lCZ",
   "metadata": {
    "id": "Vyi_srzl4lCZ"
   },
   "outputs": [],
   "source": [
    "# construct network\n",
    "model = Sequential()\n",
    "\n",
    "# feature learning - first layer\n",
    "model.add(Conv2D(32, (3, 3), activation='relu', kernel_initializer='he_uniform', input_shape=(32, 32, 1)))\n",
    "model.add(MaxPooling2D((2, 2)))\n",
    "\n",
    "# classification\n",
    "model.add(Flatten())\n",
    "model.add(Dense(100, activation='relu', kernel_initializer='he_uniform'))\n",
    "model.add(Dense(29, activation='softmax'))\n",
    "\n",
    "# compile model\n",
    "opt = SGD(learning_rate=0.01, momentum=0.9)\n",
    "model.compile(optimizer=opt, loss='categorical_crossentropy', metrics=['accuracy'])"
   ]
  },
  {
   "cell_type": "code",
   "execution_count": 7,
   "id": "vnCqH3kr4qFP",
   "metadata": {
    "colab": {
     "base_uri": "https://localhost:8080/"
    },
    "id": "vnCqH3kr4qFP",
    "outputId": "5890a249-a1f5-49ed-fcac-a110c1468132"
   },
   "outputs": [
    {
     "name": "stdout",
     "output_type": "stream",
     "text": [
      "Epoch 1/10\n",
      "420/420 [==============================] - 4s 5ms/step - loss: 1.8709 - accuracy: 0.4295 - val_loss: 1.1954 - val_accuracy: 0.6185\n",
      "Epoch 2/10\n",
      "420/420 [==============================] - 2s 5ms/step - loss: 0.9478 - accuracy: 0.6915 - val_loss: 0.8713 - val_accuracy: 0.7146\n",
      "Epoch 3/10\n",
      "420/420 [==============================] - 2s 5ms/step - loss: 0.6400 - accuracy: 0.7893 - val_loss: 0.7225 - val_accuracy: 0.7607\n",
      "Epoch 4/10\n",
      "420/420 [==============================] - 2s 5ms/step - loss: 0.4672 - accuracy: 0.8437 - val_loss: 0.6691 - val_accuracy: 0.7890\n",
      "Epoch 5/10\n",
      "420/420 [==============================] - 2s 5ms/step - loss: 0.3503 - accuracy: 0.8839 - val_loss: 0.6512 - val_accuracy: 0.7991\n",
      "Epoch 6/10\n",
      "420/420 [==============================] - 2s 5ms/step - loss: 0.2526 - accuracy: 0.9187 - val_loss: 0.6535 - val_accuracy: 0.7994\n",
      "Epoch 7/10\n",
      "420/420 [==============================] - 2s 5ms/step - loss: 0.1813 - accuracy: 0.9421 - val_loss: 0.6314 - val_accuracy: 0.8140\n",
      "Epoch 8/10\n",
      "420/420 [==============================] - 2s 5ms/step - loss: 0.1263 - accuracy: 0.9610 - val_loss: 0.6938 - val_accuracy: 0.8167\n",
      "Epoch 9/10\n",
      "420/420 [==============================] - 2s 5ms/step - loss: 0.0867 - accuracy: 0.9746 - val_loss: 0.7343 - val_accuracy: 0.8071\n",
      "Epoch 10/10\n",
      "420/420 [==============================] - 2s 5ms/step - loss: 0.0629 - accuracy: 0.9825 - val_loss: 0.6977 - val_accuracy: 0.8199\n"
     ]
    }
   ],
   "source": [
    "history = model.fit(X_train, y_train, validation_data=(X_test, y_test), batch_size=32, epochs=10)"
   ]
  },
  {
   "cell_type": "code",
   "execution_count": 8,
   "id": "9GRjYkTSwnCo",
   "metadata": {
    "id": "9GRjYkTSwnCo"
   },
   "outputs": [],
   "source": [
    "model.save(drive_path + 'models/cnn_baseline.h5')"
   ]
  },
  {
   "cell_type": "code",
   "execution_count": 9,
   "id": "6q6_laLn5WfM",
   "metadata": {
    "colab": {
     "base_uri": "https://localhost:8080/"
    },
    "id": "6q6_laLn5WfM",
    "outputId": "b27aa335-ed0a-4cce-e38f-42cce32aa859"
   },
   "outputs": [
    {
     "name": "stdout",
     "output_type": "stream",
     "text": [
      "Model: \"sequential\"\n",
      "_________________________________________________________________\n",
      "Layer (type)                 Output Shape              Param #   \n",
      "=================================================================\n",
      "conv2d (Conv2D)              (None, 30, 30, 32)        320       \n",
      "_________________________________________________________________\n",
      "max_pooling2d (MaxPooling2D) (None, 15, 15, 32)        0         \n",
      "_________________________________________________________________\n",
      "flatten (Flatten)            (None, 7200)              0         \n",
      "_________________________________________________________________\n",
      "dense (Dense)                (None, 100)               720100    \n",
      "_________________________________________________________________\n",
      "dense_1 (Dense)              (None, 29)                2929      \n",
      "=================================================================\n",
      "Total params: 723,349\n",
      "Trainable params: 723,349\n",
      "Non-trainable params: 0\n",
      "_________________________________________________________________\n"
     ]
    }
   ],
   "source": [
    "model.summary()"
   ]
  },
  {
   "cell_type": "code",
   "execution_count": 10,
   "id": "6Q50uVzY5X5t",
   "metadata": {
    "id": "6Q50uVzY5X5t"
   },
   "outputs": [],
   "source": [
    "def plot_training(model_history=history):\n",
    "    plt.figure(figsize=(8,10))\n",
    "\n",
    "    plt.subplot(2,1,1)\n",
    "    plt.title('Model Loss', fontsize=16)\n",
    "    plt.xlabel('Number of Epochs', fontsize=12)\n",
    "    plt.plot(model_history.history['loss'], label='Train Loss')\n",
    "    plt.plot(model_history.history['val_loss'], label='Val Loss')\n",
    "    plt.legend()\n",
    "\n",
    "    plt.subplot(2,1,2)\n",
    "    plt.title('Model Accuracy', fontsize=16)\n",
    "    plt.xlabel('Number of Epochs', fontsize=12)\n",
    "    plt.plot(model_history.history['accuracy'], label='Train Accuracy')\n",
    "    plt.plot(model_history.history['val_accuracy'], label='Val Accuracy')\n",
    "    plt.legend()\n",
    "\n",
    "    plt.subplots_adjust(hspace=0.5) \n",
    "    plt.show()\n",
    "\n",
    "    return"
   ]
  },
  {
   "cell_type": "code",
   "execution_count": 11,
   "id": "snUYH16Q3w3_",
   "metadata": {
    "id": "snUYH16Q3w3_"
   },
   "outputs": [],
   "source": [
    "with open(drive_path + 'plot_training.pkl', 'wb') as f:\n",
    "    pickle.dump(plot_training, f)"
   ]
  },
  {
   "cell_type": "code",
   "execution_count": 12,
   "id": "HHsoXKpp3DV4",
   "metadata": {
    "colab": {
     "base_uri": "https://localhost:8080/",
     "height": 626
    },
    "id": "HHsoXKpp3DV4",
    "outputId": "d8a6376f-6fcc-4701-fc40-418886dd42b9"
   },
   "outputs": [
    {
     "data": {
      "image/png": "[encoded data removed]",
      "text/plain": [
       "<Figure size 576x720 with 2 Axes>"
      ]
     },
     "metadata": {
      "needs_background": "light"
     },
     "output_type": "display_data"
    }
   ],
   "source": [
    "plot_training()"
   ]
  },
  {
   "cell_type": "code",
   "execution_count": 13,
   "id": "hUDAvAIGQkw4",
   "metadata": {
    "colab": {
     "base_uri": "https://localhost:8080/"
    },
    "id": "hUDAvAIGQkw4",
    "outputId": "d906cbb7-bd22-447a-8dc2-7de61b22b3c1"
   },
   "outputs": [
    {
     "name": "stdout",
     "output_type": "stream",
     "text": [
      "105/105 [==============================] - 0s 3ms/step - loss: 0.6977 - accuracy: 0.8199\n"
     ]
    },
    {
     "data": {
      "text/plain": [
       "[0.6976928114891052, 0.819940447807312]"
      ]
     },
     "execution_count": 13,
     "metadata": {},
     "output_type": "execute_result"
    }
   ],
   "source": [
    "model.evaluate(X_test, y_test)"
   ]
  },
  {
   "cell_type": "markdown",
   "id": "El1yOMkYvvI6",
   "metadata": {
    "id": "El1yOMkYvvI6"
   },
   "source": [
    "Here, we can establish that our baseline model has a loss score of 0.6977 and 81.99% accuracy (this number varies each time the code is ran)."
   ]
  }
 ],
 "metadata": {
  "accelerator": "GPU",
  "colab": {
   "include_colab_link": true,
   "name": "scratch_2.ipynb",
   "provenance": []
  },
  "kernelspec": {
   "display_name": "Python 3",
   "language": "python",
   "name": "python3"
  },
  "language_info": {
   "codemirror_mode": {
    "name": "ipython",
    "version": 3
   },
   "file_extension": ".py",
   "mimetype": "text/x-python",
   "name": "python",
   "nbconvert_exporter": "python",
   "pygments_lexer": "ipython3",
   "version": "3.8.10"
  }
 },
 "nbformat": 4,
 "nbformat_minor": 5
}
