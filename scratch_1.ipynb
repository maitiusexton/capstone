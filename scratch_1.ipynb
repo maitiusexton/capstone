{
 "cells": [
  {
   "cell_type": "code",
   "execution_count": 1,
   "id": "2665781d",
   "metadata": {},
   "outputs": [],
   "source": [
    "import pandas as pd"
   ]
  },
  {
   "cell_type": "code",
   "execution_count": 3,
   "id": "f4ba1af6",
   "metadata": {},
   "outputs": [],
   "source": [
    "training_ground_truth = pd.read_excel('./KHATT_v1.0/KHATT-Pilot/Groundtruth-Unicode.xlsx',\n",
    "                                      sheet_name='Training',\n",
    "                                      header=None)"
   ]
  },
  {
   "cell_type": "code",
   "execution_count": 4,
   "id": "c39f1b14",
   "metadata": {},
   "outputs": [
    {
     "data": {
      "text/html": [
       "<div>\n",
       "<style scoped>\n",
       "    .dataframe tbody tr th:only-of-type {\n",
       "        vertical-align: middle;\n",
       "    }\n",
       "\n",
       "    .dataframe tbody tr th {\n",
       "        vertical-align: top;\n",
       "    }\n",
       "\n",
       "    .dataframe thead th {\n",
       "        text-align: right;\n",
       "    }\n",
       "</style>\n",
       "<table border=\"1\" class=\"dataframe\">\n",
       "  <thead>\n",
       "    <tr style=\"text-align: right;\">\n",
       "      <th></th>\n",
       "      <th>0</th>\n",
       "      <th>1</th>\n",
       "    </tr>\n",
       "  </thead>\n",
       "  <tbody>\n",
       "    <tr>\n",
       "      <th>0</th>\n",
       "      <td>AHTD3A0001_Para2_3.tif</td>\n",
       "      <td>من العذاب في الآخرة، وأفضل ما رزقهم الله تعالى...</td>\n",
       "    </tr>\n",
       "    <tr>\n",
       "      <th>1</th>\n",
       "      <td>AHTD3A0001_Para2_4.tif</td>\n",
       "      <td>لجميع الأشياء والذي لا يقدر أحدٌ في الدنيا على...</td>\n",
       "    </tr>\n",
       "    <tr>\n",
       "      <th>2</th>\n",
       "      <td>AHTD3A0001_Para3_1.tif</td>\n",
       "      <td>فقال له  إنك في منازل آبائك وأجدادك من الجبابر...</td>\n",
       "    </tr>\n",
       "    <tr>\n",
       "      <th>3</th>\n",
       "      <td>AHTD3A0001_Para3_2.tif</td>\n",
       "      <td>قبلك، وشيدوه دونك، وبنوا القلاع والحصون، ومهدو...</td>\n",
       "    </tr>\n",
       "    <tr>\n",
       "      <th>4</th>\n",
       "      <td>AHTD3A0002_Para2_1.tif</td>\n",
       "      <td>وكذلك طالب الآخرة مجتهد في العمل المنجي به روح...</td>\n",
       "    </tr>\n",
       "    <tr>\n",
       "      <th>...</th>\n",
       "      <td>...</td>\n",
       "      <td>...</td>\n",
       "    </tr>\n",
       "    <tr>\n",
       "      <th>1395</th>\n",
       "      <td>AHTD3A0438_Para2_3.tif</td>\n",
       "      <td>مثل حرَّة \"القوس\" التي قيل إنها كانت ترى كأنها...</td>\n",
       "    </tr>\n",
       "    <tr>\n",
       "      <th>1396</th>\n",
       "      <td>AHTD3A0438_Para2_4.tif</td>\n",
       "      <td>التي كان يخرج منها ما يشبه البرق، ويسمع منها أ...</td>\n",
       "    </tr>\n",
       "    <tr>\n",
       "      <th>1397</th>\n",
       "      <td>AHTD3A0438_Para3_1.tif</td>\n",
       "      <td>ولعل قوة نيران \"حرة ضَرْوان\" وشدة قذفها للحمم ...</td>\n",
       "    </tr>\n",
       "    <tr>\n",
       "      <th>1398</th>\n",
       "      <td>AHTD3A0438_Para3_2.tif</td>\n",
       "      <td>اليمن إلى التعبد لها والتحاكم إليها، فقد كانوا...</td>\n",
       "    </tr>\n",
       "    <tr>\n",
       "      <th>1399</th>\n",
       "      <td>AHTD3A0438_Para3_3.tif</td>\n",
       "      <td>يحدث عندهم من خلاف، والرأي عندهم إن النار تخرج...</td>\n",
       "    </tr>\n",
       "  </tbody>\n",
       "</table>\n",
       "<p>1400 rows × 2 columns</p>\n",
       "</div>"
      ],
      "text/plain": [
       "                           0  \\\n",
       "0     AHTD3A0001_Para2_3.tif   \n",
       "1     AHTD3A0001_Para2_4.tif   \n",
       "2     AHTD3A0001_Para3_1.tif   \n",
       "3     AHTD3A0001_Para3_2.tif   \n",
       "4     AHTD3A0002_Para2_1.tif   \n",
       "...                      ...   \n",
       "1395  AHTD3A0438_Para2_3.tif   \n",
       "1396  AHTD3A0438_Para2_4.tif   \n",
       "1397  AHTD3A0438_Para3_1.tif   \n",
       "1398  AHTD3A0438_Para3_2.tif   \n",
       "1399  AHTD3A0438_Para3_3.tif   \n",
       "\n",
       "                                                      1  \n",
       "0     من العذاب في الآخرة، وأفضل ما رزقهم الله تعالى...  \n",
       "1     لجميع الأشياء والذي لا يقدر أحدٌ في الدنيا على...  \n",
       "2     فقال له  إنك في منازل آبائك وأجدادك من الجبابر...  \n",
       "3     قبلك، وشيدوه دونك، وبنوا القلاع والحصون، ومهدو...  \n",
       "4     وكذلك طالب الآخرة مجتهد في العمل المنجي به روح...  \n",
       "...                                                 ...  \n",
       "1395  مثل حرَّة \"القوس\" التي قيل إنها كانت ترى كأنها...  \n",
       "1396  التي كان يخرج منها ما يشبه البرق، ويسمع منها أ...  \n",
       "1397  ولعل قوة نيران \"حرة ضَرْوان\" وشدة قذفها للحمم ...  \n",
       "1398  اليمن إلى التعبد لها والتحاكم إليها، فقد كانوا...  \n",
       "1399  يحدث عندهم من خلاف، والرأي عندهم إن النار تخرج...  \n",
       "\n",
       "[1400 rows x 2 columns]"
      ]
     },
     "execution_count": 4,
     "metadata": {},
     "output_type": "execute_result"
    }
   ],
   "source": [
    "training_ground_truth"
   ]
  },
  {
   "cell_type": "code",
   "execution_count": null,
   "id": "012cf6d2",
   "metadata": {},
   "outputs": [],
   "source": []
  }
 ],
 "metadata": {
  "kernelspec": {
   "display_name": "Python 3",
   "language": "python",
   "name": "python3"
  },
  "language_info": {
   "codemirror_mode": {
    "name": "ipython",
    "version": 3
   },
   "file_extension": ".py",
   "mimetype": "text/x-python",
   "name": "python",
   "nbconvert_exporter": "python",
   "pygments_lexer": "ipython3",
   "version": "3.8.10"
  }
 },
 "nbformat": 4,
 "nbformat_minor": 5
}
